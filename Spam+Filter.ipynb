{
 "cells": [
  {
   "cell_type": "markdown",
   "metadata": {},
   "source": [
    "Project: Building a Spam Filter with Naive Bayes"
   ]
  },
  {
   "cell_type": "code",
   "execution_count": 1,
   "metadata": {
    "collapsed": true
   },
   "outputs": [],
   "source": [
    "import pandas as pd\n",
    "import numpy as np"
   ]
  },
  {
   "cell_type": "code",
   "execution_count": 2,
   "metadata": {
    "collapsed": true
   },
   "outputs": [],
   "source": [
    "msgs = pd.read_csv('SMSSpamCollection',sep='\\t',header=None,names=['Label', 'SMS'])"
   ]
  },
  {
   "cell_type": "code",
   "execution_count": 3,
   "metadata": {
    "collapsed": false
   },
   "outputs": [
    {
     "data": {
      "text/html": [
       "<div>\n",
       "<style scoped>\n",
       "    .dataframe tbody tr th:only-of-type {\n",
       "        vertical-align: middle;\n",
       "    }\n",
       "\n",
       "    .dataframe tbody tr th {\n",
       "        vertical-align: top;\n",
       "    }\n",
       "\n",
       "    .dataframe thead th {\n",
       "        text-align: right;\n",
       "    }\n",
       "</style>\n",
       "<table border=\"1\" class=\"dataframe\">\n",
       "  <thead>\n",
       "    <tr style=\"text-align: right;\">\n",
       "      <th></th>\n",
       "      <th>Label</th>\n",
       "      <th>SMS</th>\n",
       "    </tr>\n",
       "  </thead>\n",
       "  <tbody>\n",
       "    <tr>\n",
       "      <th>0</th>\n",
       "      <td>ham</td>\n",
       "      <td>Go until jurong point, crazy.. Available only ...</td>\n",
       "    </tr>\n",
       "    <tr>\n",
       "      <th>1</th>\n",
       "      <td>ham</td>\n",
       "      <td>Ok lar... Joking wif u oni...</td>\n",
       "    </tr>\n",
       "    <tr>\n",
       "      <th>2</th>\n",
       "      <td>spam</td>\n",
       "      <td>Free entry in 2 a wkly comp to win FA Cup fina...</td>\n",
       "    </tr>\n",
       "    <tr>\n",
       "      <th>3</th>\n",
       "      <td>ham</td>\n",
       "      <td>U dun say so early hor... U c already then say...</td>\n",
       "    </tr>\n",
       "    <tr>\n",
       "      <th>4</th>\n",
       "      <td>ham</td>\n",
       "      <td>Nah I don't think he goes to usf, he lives aro...</td>\n",
       "    </tr>\n",
       "  </tbody>\n",
       "</table>\n",
       "</div>"
      ],
      "text/plain": [
       "  Label                                                SMS\n",
       "0   ham  Go until jurong point, crazy.. Available only ...\n",
       "1   ham                      Ok lar... Joking wif u oni...\n",
       "2  spam  Free entry in 2 a wkly comp to win FA Cup fina...\n",
       "3   ham  U dun say so early hor... U c already then say...\n",
       "4   ham  Nah I don't think he goes to usf, he lives aro..."
      ]
     },
     "execution_count": 3,
     "metadata": {},
     "output_type": "execute_result"
    }
   ],
   "source": [
    "msgs.head()"
   ]
  },
  {
   "cell_type": "markdown",
   "metadata": {},
   "source": [
    "ham means non-spam"
   ]
  },
  {
   "cell_type": "code",
   "execution_count": 4,
   "metadata": {
    "collapsed": false
   },
   "outputs": [
    {
     "data": {
      "text/plain": [
       "ham     86.593683\n",
       "spam    13.406317\n",
       "Name: Label, dtype: float64"
      ]
     },
     "execution_count": 4,
     "metadata": {},
     "output_type": "execute_result"
    }
   ],
   "source": [
    "msgs['Label'].value_counts(normalize=True)*100"
   ]
  },
  {
   "cell_type": "markdown",
   "metadata": {},
   "source": [
    "there are fewer spams. 13.4% to be exact.\n",
    "There are roughly 87% non-spams."
   ]
  },
  {
   "cell_type": "code",
   "execution_count": 5,
   "metadata": {
    "collapsed": false
   },
   "outputs": [
    {
     "data": {
      "text/plain": [
       "(5572, 2)"
      ]
     },
     "execution_count": 5,
     "metadata": {},
     "output_type": "execute_result"
    }
   ],
   "source": [
    "msgs.shape"
   ]
  },
  {
   "cell_type": "markdown",
   "metadata": {},
   "source": [
    "there are 5572 rows/messages and 2 columns."
   ]
  },
  {
   "cell_type": "code",
   "execution_count": 6,
   "metadata": {
    "collapsed": false
   },
   "outputs": [],
   "source": [
    "import math\n",
    "eighty = math.floor(5572*0.8)\n",
    "twenty = 5572 - eighty\n",
    "randomized = msgs.sample(random_state=1,frac=1)\n",
    "\n",
    "training_set = randomized.sample(eighty, random_state=1)\n",
    "training_set.reset_index(inplace=True)\n",
    "training_set.drop('index',axis=1,inplace=True)\n",
    "test_set = randomized.sample(twenty,random_state=1)\n",
    "test_set.reset_index(inplace=True)\n",
    "test_set.drop('index',axis=1,inplace=True)"
   ]
  },
  {
   "cell_type": "markdown",
   "metadata": {},
   "source": [
    "randomized the data set and split them into two different sets; training and test sets."
   ]
  },
  {
   "cell_type": "code",
   "execution_count": 7,
   "metadata": {
    "collapsed": false
   },
   "outputs": [
    {
     "data": {
      "text/plain": [
       "ham     86.67265\n",
       "spam    13.32735\n",
       "Name: Label, dtype: float64"
      ]
     },
     "execution_count": 7,
     "metadata": {},
     "output_type": "execute_result"
    }
   ],
   "source": [
    "training_set['Label'].value_counts(normalize=True)*100"
   ]
  },
  {
   "cell_type": "code",
   "execution_count": 8,
   "metadata": {
    "collapsed": false
   },
   "outputs": [
    {
     "data": {
      "text/plain": [
       "ham     86.188341\n",
       "spam    13.811659\n",
       "Name: Label, dtype: float64"
      ]
     },
     "execution_count": 8,
     "metadata": {},
     "output_type": "execute_result"
    }
   ],
   "source": [
    "test_set['Label'].value_counts(normalize=True)*100"
   ]
  },
  {
   "cell_type": "markdown",
   "metadata": {},
   "source": [
    "The percentages of spam and ham(non-spam) in both sets; test and training are similar."
   ]
  },
  {
   "cell_type": "markdown",
   "metadata": {},
   "source": [
    "Transforming the sms to a suitable format."
   ]
  },
  {
   "cell_type": "code",
   "execution_count": 9,
   "metadata": {
    "collapsed": true
   },
   "outputs": [],
   "source": [
    "import re\n",
    "test_set['SMS'] = test_set['SMS'].apply(lambda a: re.sub('\\W',' ',a))\n",
    "training_set['SMS'] = training_set['SMS'].apply(lambda a: re.sub('\\W',' ',a))"
   ]
  },
  {
   "cell_type": "code",
   "execution_count": 10,
   "metadata": {
    "collapsed": false
   },
   "outputs": [
    {
     "data": {
      "text/plain": [
       "0         Good night my dear   Sleepwell amp Take care\n",
       "1    Sen told that he is going to join his uncle fi...\n",
       "2    Thank you baby  I cant wait to taste the real ...\n",
       "3                                 When can ü come out \n",
       "4                 No  Thank you  You ve been wonderful\n",
       "Name: SMS, dtype: object"
      ]
     },
     "execution_count": 10,
     "metadata": {},
     "output_type": "execute_result"
    }
   ],
   "source": [
    "test_set['SMS'].head()"
   ]
  },
  {
   "cell_type": "code",
   "execution_count": 11,
   "metadata": {
    "collapsed": true
   },
   "outputs": [],
   "source": [
    "test_set['SMS'] = test_set['SMS'].str.lower()\n",
    "training_set['SMS'] = training_set['SMS'].str.lower()"
   ]
  },
  {
   "cell_type": "markdown",
   "metadata": {},
   "source": [
    "There some double spaces that need to be removed from the SMS column."
   ]
  },
  {
   "cell_type": "code",
   "execution_count": 12,
   "metadata": {
    "collapsed": false
   },
   "outputs": [],
   "source": [
    "test_set['SMS'] = test_set['SMS'].apply(lambda a: re.sub('\\s+',' ',a))"
   ]
  },
  {
   "cell_type": "code",
   "execution_count": 13,
   "metadata": {
    "collapsed": false
   },
   "outputs": [],
   "source": [
    "training_set['SMS'] = training_set['SMS'].apply(lambda a: re.sub('\\s+',' ',a))"
   ]
  },
  {
   "cell_type": "markdown",
   "metadata": {},
   "source": [
    "Transforming the SMS column to represent the number of times a particular word appears."
   ]
  },
  {
   "cell_type": "code",
   "execution_count": 14,
   "metadata": {
    "collapsed": true
   },
   "outputs": [],
   "source": [
    "vocabulary = []\n",
    "test = list(test_set['SMS'])\n",
    "training = list(training_set['SMS'])\n",
    "test.extend(training)"
   ]
  },
  {
   "cell_type": "code",
   "execution_count": 15,
   "metadata": {
    "collapsed": false
   },
   "outputs": [
    {
     "data": {
      "text/plain": [
       "['good night my dear sleepwell amp take care',\n",
       " 'sen told that he is going to join his uncle finance in cbe',\n",
       " 'thank you baby i cant wait to taste the real thing ',\n",
       " 'when can ü come out ',\n",
       " 'no thank you you ve been wonderful']"
      ]
     },
     "execution_count": 15,
     "metadata": {},
     "output_type": "execute_result"
    }
   ],
   "source": [
    "test[0:5]"
   ]
  },
  {
   "cell_type": "code",
   "execution_count": 16,
   "metadata": {
    "collapsed": false
   },
   "outputs": [
    {
     "data": {
      "text/plain": [
       "5572"
      ]
     },
     "execution_count": 16,
     "metadata": {},
     "output_type": "execute_result"
    }
   ],
   "source": [
    "len(test)"
   ]
  },
  {
   "cell_type": "code",
   "execution_count": 17,
   "metadata": {
    "collapsed": false
   },
   "outputs": [],
   "source": [
    "vocab = []\n",
    "for i in test:\n",
    "    x= i.split(' ')\n",
    "    for t in x:\n",
    "        vocab.append(t)"
   ]
  },
  {
   "cell_type": "code",
   "execution_count": 18,
   "metadata": {
    "collapsed": false
   },
   "outputs": [],
   "source": [
    "vocabulary = set(vocab)\n",
    "vocabulary.discard('')#removed empty string from the set.\n",
    "vocabulary = list(vocabulary)"
   ]
  },
  {
   "cell_type": "code",
   "execution_count": 19,
   "metadata": {
    "collapsed": false
   },
   "outputs": [
    {
     "data": {
      "text/plain": [
       "['losing',\n",
       " 'east',\n",
       " 'projects',\n",
       " 'wun',\n",
       " 'outreach',\n",
       " 'carlos',\n",
       " 'grow',\n",
       " 'sozi',\n",
       " 'ac',\n",
       " 'notifications',\n",
       " 'weakness',\n",
       " 'effect',\n",
       " 'upgrading',\n",
       " '4years',\n",
       " 'win150ppmx3age16',\n",
       " 'tunji',\n",
       " 'self',\n",
       " 'tortilla',\n",
       " '1thing',\n",
       " 'including',\n",
       " 'receipt',\n",
       " 'num',\n",
       " 'nagar',\n",
       " 'mumhas',\n",
       " 'challenge',\n",
       " 'interested',\n",
       " 'saeed',\n",
       " 'thou',\n",
       " 'pai',\n",
       " 'wizzle',\n",
       " 'lots',\n",
       " 'afghanistan',\n",
       " 'hairdressers',\n",
       " 'yep',\n",
       " 'drinking',\n",
       " 'print',\n",
       " 'viva',\n",
       " 'ystrday',\n",
       " 'in',\n",
       " 'instructions',\n",
       " 'stress',\n",
       " '50award',\n",
       " 'snowball',\n",
       " 'deviousbitch',\n",
       " 'sony',\n",
       " 'wisheds',\n",
       " 'howu',\n",
       " '8p',\n",
       " '13',\n",
       " 'rest',\n",
       " 'hex',\n",
       " 'oblivious',\n",
       " 'torrents',\n",
       " 'colleg',\n",
       " 'kr',\n",
       " '09066364589',\n",
       " 'between',\n",
       " 'gin',\n",
       " 'wife',\n",
       " 'mushy',\n",
       " 'conference',\n",
       " 'rental',\n",
       " 'amanda',\n",
       " 'normally',\n",
       " 'gaps',\n",
       " 'warwick',\n",
       " 'possessiveness',\n",
       " 'challenging',\n",
       " '150',\n",
       " 'downs',\n",
       " 'uworld',\n",
       " 'yifeng',\n",
       " 'deny',\n",
       " 'dialogue',\n",
       " 'jas',\n",
       " 'increments',\n",
       " 'suply',\n",
       " 'department',\n",
       " 'relation',\n",
       " 'nationwide',\n",
       " '08448350055',\n",
       " 'conversations',\n",
       " 'taylor',\n",
       " 'prepayment',\n",
       " '700',\n",
       " 'whether',\n",
       " 'mp3',\n",
       " 'atleast',\n",
       " 'corect',\n",
       " 'scotland',\n",
       " 'inviting',\n",
       " '74355',\n",
       " 'imagination',\n",
       " 'dancce',\n",
       " 'tron',\n",
       " 'stadium',\n",
       " 'lately',\n",
       " 'hppnss',\n",
       " 'fixed',\n",
       " 'txting',\n",
       " 'using',\n",
       " 'ennal',\n",
       " 'dreading',\n",
       " 'glorious',\n",
       " 'lancaster',\n",
       " 'oops',\n",
       " 'cinema',\n",
       " 'sacrifice',\n",
       " 'alian',\n",
       " 'b4280703',\n",
       " '2nhite',\n",
       " 'mquiz',\n",
       " '2814032',\n",
       " 'helps',\n",
       " 'os',\n",
       " 'proove',\n",
       " 'peaceful',\n",
       " 'fourth',\n",
       " 'cps',\n",
       " 'miiiiiiissssssssss',\n",
       " 'boy',\n",
       " 'calls1',\n",
       " 'cheaper',\n",
       " 'applying',\n",
       " 'stayin',\n",
       " 'hv9d',\n",
       " 'widelive',\n",
       " 'timin',\n",
       " 'delivered',\n",
       " 'drink',\n",
       " '5th',\n",
       " 'dis',\n",
       " 'authorise',\n",
       " 'signin',\n",
       " 'look',\n",
       " 'handset',\n",
       " 'flirt',\n",
       " 'k718',\n",
       " 'sometimes',\n",
       " 'nz',\n",
       " '8552',\n",
       " 'count',\n",
       " 'po',\n",
       " 'kegger',\n",
       " 'jos',\n",
       " 'trade',\n",
       " 'prometazine',\n",
       " 'ure',\n",
       " 'callers',\n",
       " 'party',\n",
       " 'videophones',\n",
       " 'going',\n",
       " 'people',\n",
       " 'gain',\n",
       " 'suite',\n",
       " 'cough',\n",
       " 'anal',\n",
       " 'suggest',\n",
       " 'music',\n",
       " 'guys',\n",
       " 'quiet',\n",
       " 'chez',\n",
       " 'divorce',\n",
       " 'wishin',\n",
       " 'book',\n",
       " 'lap',\n",
       " 'now',\n",
       " 'domain',\n",
       " 'compulsory',\n",
       " 'both',\n",
       " 'dontignore',\n",
       " 'top',\n",
       " 'ugadi',\n",
       " 'scary',\n",
       " 'control',\n",
       " 'naked',\n",
       " '33',\n",
       " 'roommates',\n",
       " 'pooja',\n",
       " 'dogwood',\n",
       " 'affectionate',\n",
       " 'appreciate',\n",
       " 'overheating',\n",
       " 'involved',\n",
       " 'told',\n",
       " 'years',\n",
       " 'prospects',\n",
       " 'regretted',\n",
       " 'box177',\n",
       " '09061701851',\n",
       " 'velachery',\n",
       " 'belong',\n",
       " 'malaria',\n",
       " 'couldn',\n",
       " 'suits',\n",
       " 'no',\n",
       " 'pushes',\n",
       " 'replies',\n",
       " 'polyc',\n",
       " 'nearly',\n",
       " '6',\n",
       " 'songs',\n",
       " 'update_now',\n",
       " 'neshanth',\n",
       " 'pimples',\n",
       " 'hr',\n",
       " 'free2day',\n",
       " 'centre',\n",
       " 'twat',\n",
       " 'form',\n",
       " 'lotsly',\n",
       " 'sol',\n",
       " 'convince',\n",
       " 'kudi',\n",
       " 'girls',\n",
       " '69969',\n",
       " 'converted',\n",
       " 'active',\n",
       " 'reacting',\n",
       " 'painful',\n",
       " 'cc',\n",
       " 'forced',\n",
       " 'hearted',\n",
       " 'worc',\n",
       " 'education',\n",
       " 'treatin',\n",
       " 'everyones',\n",
       " 'gang',\n",
       " 'otbox',\n",
       " 'vs',\n",
       " 'princess',\n",
       " 'snuggles',\n",
       " 'tigress',\n",
       " 'stage',\n",
       " 'heron',\n",
       " 'instituitions',\n",
       " 'youuuuu',\n",
       " 'jones',\n",
       " 'idk',\n",
       " 'her',\n",
       " 'r',\n",
       " 'weighed',\n",
       " 'n9dx',\n",
       " 'motivating',\n",
       " 'throw',\n",
       " 'whr',\n",
       " 'got',\n",
       " 'g',\n",
       " 'transfer',\n",
       " 'orange',\n",
       " '85023',\n",
       " 'musical',\n",
       " 'complaining',\n",
       " '08712317606',\n",
       " 'points',\n",
       " 'sux',\n",
       " 'tix',\n",
       " 'replace',\n",
       " 'stapati',\n",
       " 'beggar',\n",
       " 'gage',\n",
       " 'cartons',\n",
       " 'approx',\n",
       " 'run',\n",
       " 'ends',\n",
       " '09058094597',\n",
       " 'xt',\n",
       " 'uniform',\n",
       " 'services',\n",
       " 'defeat',\n",
       " 'hw',\n",
       " 'salary',\n",
       " 'disturbance',\n",
       " 'female',\n",
       " 'ntwk',\n",
       " 'hurting',\n",
       " 'skills',\n",
       " 'turns',\n",
       " 'marry',\n",
       " 'copies',\n",
       " 'age',\n",
       " 'packs',\n",
       " '2007',\n",
       " '0721072',\n",
       " 'dirt',\n",
       " 'uploaded',\n",
       " 'lousy',\n",
       " 'winning',\n",
       " 'burning',\n",
       " 'cbe',\n",
       " '07',\n",
       " 'nos',\n",
       " '2003',\n",
       " 'sigh',\n",
       " 'talk',\n",
       " 'masters',\n",
       " '85555',\n",
       " 'parked',\n",
       " 'stick',\n",
       " '0207',\n",
       " 'argument',\n",
       " 'met',\n",
       " '08719181503',\n",
       " 'relatives',\n",
       " 'priya',\n",
       " 'shanghai',\n",
       " 'nitro',\n",
       " 'finishing',\n",
       " '40gb',\n",
       " '1st',\n",
       " '2bold',\n",
       " '00',\n",
       " 'airtel',\n",
       " 'bcums',\n",
       " 'truth',\n",
       " 'diesel',\n",
       " 'tues',\n",
       " 'upto',\n",
       " 'fgkslpopw',\n",
       " 'sirji',\n",
       " 'ammo',\n",
       " 'newest',\n",
       " 'thoughts',\n",
       " 'prasad',\n",
       " 'neekunna',\n",
       " 'computers',\n",
       " 'reserved',\n",
       " 'genus',\n",
       " 'filthyguys',\n",
       " 'breakfast',\n",
       " 'belligerent',\n",
       " 'weirdy',\n",
       " 'birthdate',\n",
       " 'dozens',\n",
       " '08715203685',\n",
       " 'next',\n",
       " '87021',\n",
       " 'p',\n",
       " 'umma',\n",
       " 'acl03530150pm',\n",
       " 'room',\n",
       " 'colany',\n",
       " 'be',\n",
       " 'conveying',\n",
       " 'lounge',\n",
       " 'paperwork',\n",
       " 'matrix3',\n",
       " 'characters',\n",
       " 'sis',\n",
       " 'invoices',\n",
       " 'shb',\n",
       " 'getzed',\n",
       " 'reasons',\n",
       " 'itcould',\n",
       " 'nevering',\n",
       " 'repeat',\n",
       " 'street',\n",
       " 'step',\n",
       " 'click',\n",
       " 'nino',\n",
       " 'grinder',\n",
       " 'bill',\n",
       " 'fiting',\n",
       " 'womdarfull',\n",
       " 'worst',\n",
       " '9am',\n",
       " 'rightly',\n",
       " 'b4u',\n",
       " 'llc',\n",
       " 'pissed',\n",
       " 'removed',\n",
       " 'psp',\n",
       " 'fetch',\n",
       " 'wallet',\n",
       " 'bilo',\n",
       " 'breathe',\n",
       " '1',\n",
       " 'make',\n",
       " 'bills',\n",
       " 'clarification',\n",
       " 'sun',\n",
       " 'retard',\n",
       " 'pobox',\n",
       " 'misscall',\n",
       " 'kisses',\n",
       " 'ctla',\n",
       " 'cant',\n",
       " 'individual',\n",
       " 'fun',\n",
       " 'b4utele',\n",
       " 'embarrassed',\n",
       " 'irritates',\n",
       " 'way',\n",
       " 'yellow',\n",
       " 'mobilesdirect',\n",
       " 'praveesh',\n",
       " 'payed2day',\n",
       " 'kidding',\n",
       " 'gt',\n",
       " 'sorrows',\n",
       " 'ever',\n",
       " 'sullivan',\n",
       " 'will',\n",
       " 'app',\n",
       " 'only',\n",
       " 'fights',\n",
       " 'providing',\n",
       " 'console',\n",
       " '60',\n",
       " 'dignity',\n",
       " 'snogs',\n",
       " 'aiyo',\n",
       " 'grams',\n",
       " 'mega',\n",
       " 'blessed',\n",
       " 'wihtuot',\n",
       " '4a',\n",
       " 'reality',\n",
       " 'admin',\n",
       " 'planet',\n",
       " '_',\n",
       " 'fancied',\n",
       " 'unconsciously',\n",
       " 'karo',\n",
       " 'blue',\n",
       " 'bat',\n",
       " '6031',\n",
       " 'bathe',\n",
       " 'perf',\n",
       " 'consistently',\n",
       " 'victors',\n",
       " 'honeymoon',\n",
       " 'velusamy',\n",
       " 'piss',\n",
       " 'timi',\n",
       " 'same',\n",
       " 'field',\n",
       " 'subs16',\n",
       " 'neighbors',\n",
       " 'timings',\n",
       " 'end',\n",
       " 'nigpun',\n",
       " 'logos',\n",
       " 'merememberin',\n",
       " 'staff',\n",
       " 'e',\n",
       " '08712402972',\n",
       " 'film',\n",
       " 'pop',\n",
       " 'spree',\n",
       " 'appropriate',\n",
       " 'nannys',\n",
       " 'stock',\n",
       " 'tonexs',\n",
       " 'wildest',\n",
       " 'servs',\n",
       " 'hui',\n",
       " 'cry',\n",
       " 'poop',\n",
       " 'familiar',\n",
       " 'mostly',\n",
       " 'apartment',\n",
       " 'cal',\n",
       " 'jealous',\n",
       " 'beach',\n",
       " 'mmm',\n",
       " 'forums',\n",
       " 'vu',\n",
       " 'offers',\n",
       " 'kent',\n",
       " 'mmmmm',\n",
       " 'tddnewsletter',\n",
       " 'addicted',\n",
       " 'lunch',\n",
       " 'speedchat',\n",
       " '83355',\n",
       " 'ovr',\n",
       " 'tactless',\n",
       " '09066380611',\n",
       " '75max',\n",
       " 'pocy',\n",
       " 'anybody',\n",
       " 'busetop',\n",
       " '2004',\n",
       " 'chat',\n",
       " 'sack',\n",
       " 'still',\n",
       " 'girlie',\n",
       " 'with',\n",
       " 'begging',\n",
       " 'knock',\n",
       " 'prompts',\n",
       " 'olage',\n",
       " 'trial',\n",
       " 'application',\n",
       " 'sized',\n",
       " '95',\n",
       " 'castor',\n",
       " 'remembrs',\n",
       " 'ur',\n",
       " 'etlp',\n",
       " 'lookin',\n",
       " 'chechi',\n",
       " 'corvettes',\n",
       " '4041',\n",
       " 'snowboarding',\n",
       " 'endless',\n",
       " 'laundry',\n",
       " 'vary',\n",
       " 'logo',\n",
       " 'women',\n",
       " 'six',\n",
       " 'inside',\n",
       " 'demand',\n",
       " 'homeowners',\n",
       " 'adsense',\n",
       " 'mag',\n",
       " 'thk',\n",
       " 'aunty',\n",
       " 'enuff',\n",
       " 'choose',\n",
       " 'cld',\n",
       " 'yrs',\n",
       " 'asian',\n",
       " 'missions',\n",
       " 'jeevithathile',\n",
       " 'establish',\n",
       " 'sherawat',\n",
       " 'ring',\n",
       " 'lasting',\n",
       " 'bimbo',\n",
       " 'sensible',\n",
       " 'stopsms',\n",
       " 'soul',\n",
       " 'opinion',\n",
       " 'baaaaaaaabe',\n",
       " 'o2',\n",
       " '08700621170150p',\n",
       " 'gud',\n",
       " '08712460324',\n",
       " 'forgt',\n",
       " 'pobox75ldns7',\n",
       " 'spanish',\n",
       " 'decades',\n",
       " 'stops',\n",
       " 'smile',\n",
       " 'sunoco',\n",
       " '80182',\n",
       " 'acnt',\n",
       " 'crowd',\n",
       " 'draw',\n",
       " 'penny',\n",
       " 'cornwall',\n",
       " 'sorting',\n",
       " 'everyone',\n",
       " 'row',\n",
       " '545',\n",
       " 'pert',\n",
       " 'gandhipuram',\n",
       " 'few',\n",
       " 'shun',\n",
       " 'tobacco',\n",
       " 'qing',\n",
       " 'jobs',\n",
       " 'fifth',\n",
       " 'randy',\n",
       " 'urn',\n",
       " 'employee',\n",
       " 'panther',\n",
       " 'toss',\n",
       " '08717509990',\n",
       " 'solihull',\n",
       " 'hair',\n",
       " 'cts',\n",
       " 'ham',\n",
       " 'wed',\n",
       " 'j5q',\n",
       " 'bar',\n",
       " '07742676969',\n",
       " '26',\n",
       " 'possibly',\n",
       " 'scenario',\n",
       " 'workin',\n",
       " 'dhina',\n",
       " 'transfr',\n",
       " 'meanwhile',\n",
       " 'bettersn',\n",
       " 'sankatmochan',\n",
       " 'offcampus',\n",
       " 'rents',\n",
       " 'toclaim',\n",
       " 'dead',\n",
       " 'sells',\n",
       " 'politicians',\n",
       " 'go',\n",
       " 'experiencehttp',\n",
       " 'videos',\n",
       " 'rencontre',\n",
       " 'hee',\n",
       " 'creative',\n",
       " 'hill',\n",
       " 'wtlp',\n",
       " 'carolina',\n",
       " '5pm',\n",
       " 'recent',\n",
       " 'performance',\n",
       " 'filthy',\n",
       " 'motor',\n",
       " 'chad',\n",
       " '9pm',\n",
       " 'cstore',\n",
       " 'racing',\n",
       " 'petticoatdreams',\n",
       " 'preferably',\n",
       " '80155',\n",
       " 'valuable',\n",
       " '05',\n",
       " '83338',\n",
       " '07808726822',\n",
       " 'notice',\n",
       " 'coco',\n",
       " 'sunshine',\n",
       " 'diet',\n",
       " 'to',\n",
       " 'eve',\n",
       " 'lovers',\n",
       " 'beatings',\n",
       " '09071512433',\n",
       " 'i',\n",
       " 'giving',\n",
       " 'mycalls',\n",
       " 'occupy',\n",
       " 'otherwise',\n",
       " 'accomodations',\n",
       " 'transaction',\n",
       " 'someone',\n",
       " 'gets',\n",
       " 'denis',\n",
       " 'wahleykkum',\n",
       " 'french',\n",
       " 'charges',\n",
       " 'sg',\n",
       " 'steed',\n",
       " 'twilight',\n",
       " 'dave',\n",
       " '88039',\n",
       " 'fakeye',\n",
       " 'é',\n",
       " 'ntimate',\n",
       " 'disasters',\n",
       " 'sections',\n",
       " 'holla',\n",
       " 'cann',\n",
       " 'sufficient',\n",
       " 'swt',\n",
       " 'cme',\n",
       " 'writhing',\n",
       " 'get4an18th',\n",
       " 'unnecessarily',\n",
       " 'n8',\n",
       " 'ec2a',\n",
       " 'afternoon',\n",
       " 'easiest',\n",
       " 'claimcode',\n",
       " 'dificult',\n",
       " 'attributed',\n",
       " 'mmmmmm',\n",
       " 'help',\n",
       " 'breathing',\n",
       " 'oble',\n",
       " 'id',\n",
       " 'dictionary',\n",
       " 'respond',\n",
       " '87239',\n",
       " 'university',\n",
       " 'students',\n",
       " 'moment',\n",
       " 'woken',\n",
       " 'wud',\n",
       " 'but',\n",
       " '09094646899',\n",
       " 'eh74rr',\n",
       " 'problum',\n",
       " 'curious',\n",
       " 'sheffield',\n",
       " 'say',\n",
       " 'objection',\n",
       " 'any',\n",
       " 'spontaneously',\n",
       " 'callin',\n",
       " 'box139',\n",
       " 'yor',\n",
       " 'restock',\n",
       " 'abstract',\n",
       " 'cramps',\n",
       " 'limited',\n",
       " 'blonde',\n",
       " 'bruv',\n",
       " 'silly',\n",
       " 'tuition',\n",
       " 'pongal',\n",
       " 'kusruthi',\n",
       " 'hotel',\n",
       " 'gals',\n",
       " 'tookplace',\n",
       " 'oredi',\n",
       " 'phoned',\n",
       " 'ecstacy',\n",
       " 'beyond',\n",
       " '450ppw',\n",
       " 'missed',\n",
       " 'fgkslpo',\n",
       " 'something',\n",
       " 'applyed',\n",
       " 'opened',\n",
       " 'lovin',\n",
       " 'eatin',\n",
       " 'smiling',\n",
       " 'upd8',\n",
       " '2025050',\n",
       " 'on',\n",
       " 'informed',\n",
       " 'picking',\n",
       " 'doke',\n",
       " 'dont',\n",
       " 'stop',\n",
       " 'bleak',\n",
       " '087187262701',\n",
       " 'troubleshooting',\n",
       " 'replied',\n",
       " 'kid',\n",
       " 'eveb',\n",
       " 'fonin',\n",
       " 'responding',\n",
       " 'sib',\n",
       " 'betta',\n",
       " '087018728737',\n",
       " 'much',\n",
       " 'dracula',\n",
       " 'maintain',\n",
       " 'dhoni',\n",
       " 'ffectionate',\n",
       " 'needy',\n",
       " 'monos',\n",
       " 'slippers',\n",
       " 'sweetest',\n",
       " 'blow',\n",
       " 'quarter',\n",
       " 'interflora',\n",
       " 'j',\n",
       " 'wkend',\n",
       " 'even',\n",
       " 'profit',\n",
       " 'retrieve',\n",
       " 'colours',\n",
       " 'careabout',\n",
       " 'moments',\n",
       " 'ladies',\n",
       " 'evrey',\n",
       " 'oh',\n",
       " 'keluviri',\n",
       " 'v',\n",
       " 'robinson',\n",
       " 'ashes',\n",
       " 'dieting',\n",
       " 'ip4',\n",
       " 'cover',\n",
       " 'mathematics',\n",
       " 'waves',\n",
       " 'pairs',\n",
       " 'happy',\n",
       " '40533',\n",
       " 'incorrect',\n",
       " '1tulsi',\n",
       " 'goodo',\n",
       " 'exeter',\n",
       " 'ibuprofens',\n",
       " 'videosounds',\n",
       " 'nw',\n",
       " 'processed',\n",
       " 'some1',\n",
       " 'type',\n",
       " 'lo',\n",
       " 'league',\n",
       " 'belovd',\n",
       " 'watever',\n",
       " 'said',\n",
       " 'consider',\n",
       " 'bulbs',\n",
       " 'landlines',\n",
       " '5226',\n",
       " 'place',\n",
       " '8ball',\n",
       " 'shu',\n",
       " 'dine',\n",
       " 'lim',\n",
       " 'invaders',\n",
       " '900',\n",
       " '3hrs',\n",
       " 'ful',\n",
       " 'several',\n",
       " '1450',\n",
       " 'karnan',\n",
       " 'bcmsfwc1n3xx',\n",
       " 'explicit',\n",
       " 'election',\n",
       " 'heehee',\n",
       " 'learned',\n",
       " 'select',\n",
       " 'xuhui',\n",
       " 'sayhey',\n",
       " 'm95',\n",
       " 'slots',\n",
       " 'peril',\n",
       " 'pls',\n",
       " 'treasure',\n",
       " 'ovulate',\n",
       " 'netun',\n",
       " '121',\n",
       " 'audition',\n",
       " 'him',\n",
       " 'afternoons',\n",
       " 'wet',\n",
       " 'greatly',\n",
       " 'walks',\n",
       " 'abiola',\n",
       " 'either',\n",
       " 'purpose',\n",
       " 'lays',\n",
       " 'december',\n",
       " 'evil',\n",
       " 'sdryb8i',\n",
       " '674',\n",
       " '7',\n",
       " 'comes',\n",
       " 'mind',\n",
       " '30s',\n",
       " 'darker',\n",
       " 'gibe',\n",
       " 'explicitly',\n",
       " 'bbd',\n",
       " 'administrator',\n",
       " 'triumphed',\n",
       " 'hahaha',\n",
       " 'what',\n",
       " 'jobyet',\n",
       " 'beforehand',\n",
       " 'shagged',\n",
       " 'mis',\n",
       " 'doctors',\n",
       " 'ktv',\n",
       " 'movietrivia',\n",
       " '09090204448',\n",
       " 'stranger',\n",
       " '21870000',\n",
       " 'matched',\n",
       " 'expected',\n",
       " 'lag',\n",
       " 'smaller',\n",
       " 'then',\n",
       " 'anythingtomorrow',\n",
       " 'snot',\n",
       " 'reception',\n",
       " 'kill',\n",
       " '09061744553',\n",
       " 'uneventful',\n",
       " 'logoff',\n",
       " 's89',\n",
       " 'money',\n",
       " 'washob',\n",
       " 'wnt',\n",
       " 'technical',\n",
       " 'beneficiary',\n",
       " 'medical',\n",
       " 'batt',\n",
       " 'trainners',\n",
       " 'pocketbabe',\n",
       " 'seen',\n",
       " 'sehwag',\n",
       " 'yelow',\n",
       " 'exist',\n",
       " 'wheellock',\n",
       " 'contention',\n",
       " 'tol',\n",
       " 'st',\n",
       " 'was',\n",
       " '09050000301',\n",
       " 'hills',\n",
       " 'doesn',\n",
       " 'physics',\n",
       " 'supose',\n",
       " 'view',\n",
       " 'argue',\n",
       " 'blessing',\n",
       " 'coast',\n",
       " 'hear',\n",
       " 'zoe',\n",
       " 'booked',\n",
       " 'elvis',\n",
       " 'cage',\n",
       " 'stream',\n",
       " 'ondu',\n",
       " 'ar',\n",
       " 'somethin',\n",
       " 'prasanth',\n",
       " 'balls',\n",
       " '5free',\n",
       " 'identifier',\n",
       " 'correction',\n",
       " '09',\n",
       " 'norcorp',\n",
       " 'faber',\n",
       " 'website',\n",
       " 'surprised',\n",
       " 'wicked',\n",
       " 'ripped',\n",
       " 'detroit',\n",
       " 'nurses',\n",
       " '23g',\n",
       " 'charge',\n",
       " 'style',\n",
       " 'bailiff',\n",
       " 'describe',\n",
       " 'nudist',\n",
       " 'pobox1',\n",
       " 'yen',\n",
       " 'sucker',\n",
       " 'actually',\n",
       " 'handing',\n",
       " 'necessarily',\n",
       " 'ramen',\n",
       " 'stated',\n",
       " '07xxxxxxxxx',\n",
       " 'lonlines',\n",
       " 'howda',\n",
       " 'soo',\n",
       " 'approaches',\n",
       " 'browse',\n",
       " '2waxsto',\n",
       " 'honeybee',\n",
       " 'documents',\n",
       " 'jam',\n",
       " 'local',\n",
       " 'ipad',\n",
       " '400mins',\n",
       " 'maximize',\n",
       " 'frank',\n",
       " '4give',\n",
       " 'contact',\n",
       " 'intha',\n",
       " 'kids',\n",
       " 'yaxx',\n",
       " 'almost',\n",
       " '20p',\n",
       " 'yours',\n",
       " '09065989180',\n",
       " 'welcomes',\n",
       " 'hubby',\n",
       " 'hopes',\n",
       " 'armand',\n",
       " '09061701461',\n",
       " 'soon',\n",
       " '450pw',\n",
       " 'member',\n",
       " 'den',\n",
       " 'tonght',\n",
       " '09064012160',\n",
       " 'payoh',\n",
       " 'bsnl',\n",
       " '449071512431',\n",
       " 'ello',\n",
       " 'watchin',\n",
       " 'hack',\n",
       " 'dropped',\n",
       " 'lobby',\n",
       " '08719839835',\n",
       " 'acting',\n",
       " 'usher',\n",
       " 'talked',\n",
       " 'made',\n",
       " 'fumbling',\n",
       " 'attack',\n",
       " '09058099801',\n",
       " '86888',\n",
       " 'plaza',\n",
       " 'okey',\n",
       " '7ish',\n",
       " 'constant',\n",
       " 'zogtorius',\n",
       " 'kindly',\n",
       " 'keen',\n",
       " 'impress',\n",
       " 'howard',\n",
       " 'patients',\n",
       " 'opponenter',\n",
       " 'hands',\n",
       " 'tihs',\n",
       " 'sch',\n",
       " 'grr',\n",
       " 'alert',\n",
       " ...]"
      ]
     },
     "execution_count": 19,
     "metadata": {},
     "output_type": "execute_result"
    }
   ],
   "source": [
    "vocabulary"
   ]
  },
  {
   "cell_type": "markdown",
   "metadata": {},
   "source": [
    "Converted to set to remove duplicates."
   ]
  },
  {
   "cell_type": "code",
   "execution_count": 20,
   "metadata": {
    "collapsed": true
   },
   "outputs": [],
   "source": [
    "word_counts_per_sms = {unique_word: [0] * len(training_set['SMS']) for unique_word in vocabulary}"
   ]
  },
  {
   "cell_type": "code",
   "execution_count": 21,
   "metadata": {
    "collapsed": false
   },
   "outputs": [],
   "source": [
    "for index, sms in enumerate(training_set['SMS']):\n",
    "    for word in sms:\n",
    "        if word not in word_counts_per_sms:\n",
    "            continue\n",
    "        word_counts_per_sms[word][index] += 1"
   ]
  },
  {
   "cell_type": "code",
   "execution_count": 22,
   "metadata": {
    "collapsed": false
   },
   "outputs": [],
   "source": [
    "df = pd.DataFrame(word_counts_per_sms)\n",
    "training_set_2 = pd.concat([training_set,df],axis=1)"
   ]
  },
  {
   "cell_type": "code",
   "execution_count": 23,
   "metadata": {
    "collapsed": false
   },
   "outputs": [],
   "source": [
    "spam_num = sum(training_set_2['Label']=='spam')\n",
    "non_spam_num = sum(training_set_2['Label']=='ham')"
   ]
  },
  {
   "cell_type": "code",
   "execution_count": 24,
   "metadata": {
    "collapsed": false
   },
   "outputs": [
    {
     "data": {
      "text/plain": [
       "594"
      ]
     },
     "execution_count": 24,
     "metadata": {},
     "output_type": "execute_result"
    }
   ],
   "source": [
    "spam_num"
   ]
  },
  {
   "cell_type": "code",
   "execution_count": 25,
   "metadata": {
    "collapsed": false
   },
   "outputs": [
    {
     "data": {
      "text/plain": [
       "3863"
      ]
     },
     "execution_count": 25,
     "metadata": {},
     "output_type": "execute_result"
    }
   ],
   "source": [
    "non_spam_num"
   ]
  },
  {
   "cell_type": "code",
   "execution_count": 26,
   "metadata": {
    "collapsed": false
   },
   "outputs": [
    {
     "data": {
      "text/plain": [
       "7711"
      ]
     },
     "execution_count": 26,
     "metadata": {},
     "output_type": "execute_result"
    }
   ],
   "source": [
    "len(vocabulary)"
   ]
  },
  {
   "cell_type": "markdown",
   "metadata": {},
   "source": [
    "Firstly i need to calculate the probabilty of having a spam and non-spam message respectively."
   ]
  },
  {
   "cell_type": "code",
   "execution_count": 27,
   "metadata": {
    "collapsed": false
   },
   "outputs": [
    {
     "data": {
      "text/plain": [
       "4457"
      ]
     },
     "execution_count": 27,
     "metadata": {},
     "output_type": "execute_result"
    }
   ],
   "source": [
    "tot_messages = training_set_2.shape[0]\n",
    "tot_messages"
   ]
  },
  {
   "cell_type": "code",
   "execution_count": null,
   "metadata": {
    "collapsed": true
   },
   "outputs": [],
   "source": [
    "p_spam = spam_num/tot_messages\n",
    "\n",
    "p_non_spam = non_spam_num/tot_messages"
   ]
  },
  {
   "cell_type": "code",
   "execution_count": null,
   "metadata": {
    "collapsed": false
   },
   "outputs": [],
   "source": [
    "spam = {}\n",
    "non_spam = {}\n",
    "words = training_set_2.columns[2:]\n",
    "for col in words:\n",
    "    sum_spam = training_set_2[training_set_2['Label']=='spam'][col].sum()\n",
    "    sum_non_spam = training_set_2[training_set_2['Label']=='non_spam'][col].sum()\n",
    "    spam[col] = sum_spam\n",
    "    non_spam[col] = sum_non_spam\n",
    "    "
   ]
  },
  {
   "cell_type": "code",
   "execution_count": null,
   "metadata": {
    "collapsed": false
   },
   "outputs": [],
   "source": [
    "# Create dictionaries to store word counts for spam and non-spam messages\n",
    "spam_word_counts = {word: 0 for word in vocabulary}\n",
    "non_spam_word_counts = {word: 0 for word in vocabulary}\n",
    "n_spam = sum(spam.values())\n",
    "n_non_spam = sum(non_spam.values())\n",
    "\n",
    "# Iterate through each word in the vocabulary\n",
    "for word in vocabulary:\n",
    "    # Calculate Nwi|Spam: Number of times word appears in spam messages\n",
    "    spam_word_counts[word] = sum(training_set_2[training_set_2['Label'] == 'spam'][word])\n",
    "    \n",
    "    # Calculate Nwi|Non-Spam: Number of times word appears in non-spam messages\n",
    "    non_spam_word_counts[word] = sum(training_set_2[training_set_2['Label'] == 'non_spam'][word])\n",
    "\n",
    "# Calculate P(spam|words) using the Naive Bayes formula\n",
    "# P(spam|words) = P(spam) * Π[P(wi|spam)] / [P(spam) * Π[P(wi|spam)] + P(non_spam) * Π[P(wi|non_spam)]]\n",
    "\n",
    "# Calculate the probability of spam and non-spam messages\n",
    "p_spam = spam_num / tot_messages\n",
    "p_non_spam = non_spam_num / tot_messages\n",
    "\n",
    "# Initialize the numerator and denominator\n",
    "numerator = p_spam\n",
    "denominator = p_spam + p_non_spam\n",
    "\n",
    "numerator2 = p_non_spam\n",
    "denominator2 = p_spam + p_non_spam\n",
    "# Iterate through each word in the message\n",
    "for index, words in enumerate(training_set['SMS']):\n",
    "    # Calculate P(wi|spam) and P(wi|non_spam)\n",
    "      for word in words:\n",
    "        p_word_given_spam = (spam_word_counts[word] + 1) / (n_spam + len(vocabulary))\n",
    "        p_word_given_non_spam = (non_spam_word_counts[word] + 1) / (n_non_spam + len(vocabulary))\n",
    "    \n",
    "    # Update the numerator and denominator\n",
    "        numerator *= p_word_given_spam\n",
    "        denominator *= (p_word_given_spam + p_word_given_non_spam)\n",
    "    \n",
    "        numerator2 *= p_word_given_non_spam\n",
    "        denominator2 *= p_word_given_non_spam + p_word_given_spam\n",
    "# Calculate the final probability\n",
    "p_spam_given_words = numerator / denominator\n",
    "p_non_spam_given_words = numerator2 / denominator2"
   ]
  },
  {
   "cell_type": "code",
   "execution_count": null,
   "metadata": {
    "collapsed": false
   },
   "outputs": [],
   "source": [
    "\n",
    "def classify(message):\n",
    "\n",
    "    message = re.sub('\\W', ' ', message)\n",
    "    message = message.lower()\n",
    "    message = message.split()\n",
    "    p_spam_given_message = p_spam\n",
    "    p_ham_given_message = p_ham\n",
    "    \n",
    "    for word in message:\n",
    "        if word in vocabulary:\n",
    "            p_spam_given_message*= spam_word_counts[word]\n",
    "            p_ham_given_message*= non_spam_word_counts[word]\n",
    "    '''    \n",
    "    This is where we calculate:\n",
    "\n",
    "    p_spam_given_message = ?\n",
    "    p_ham_given_message = ?\n",
    "    '''    \n",
    "\n",
    "    print('P(Spam|message):', p_spam_given_message)\n",
    "    print('P(Ham|message):', p_ham_given_message)\n",
    "\n",
    "    if p_ham_given_message > p_spam_given_message:\n",
    "        print('Label: Ham')\n",
    "    elif p_ham_given_message < p_spam_given_message:\n",
    "        print('Label: Spam')\n",
    "    else:\n",
    "        print('Equal proabilities, have a human classify this!')"
   ]
  },
  {
   "cell_type": "code",
   "execution_count": null,
   "metadata": {
    "collapsed": false
   },
   "outputs": [],
   "source": []
  },
  {
   "cell_type": "code",
   "execution_count": null,
   "metadata": {
    "collapsed": true
   },
   "outputs": [],
   "source": []
  }
 ],
 "metadata": {
  "kernelspec": {
   "display_name": "Python 3",
   "language": "python",
   "name": "python3"
  },
  "language_info": {
   "codemirror_mode": {
    "name": "ipython",
    "version": 3
   },
   "file_extension": ".py",
   "mimetype": "text/x-python",
   "name": "python",
   "nbconvert_exporter": "python",
   "pygments_lexer": "ipython3",
   "version": "3.4.3"
  }
 },
 "nbformat": 4,
 "nbformat_minor": 4
}

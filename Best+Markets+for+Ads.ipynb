{
 "cells": [
  {
   "cell_type": "markdown",
   "metadata": {},
   "source": [
    "Project: Finding the Best Markets to Advertise In"
   ]
  },
  {
   "cell_type": "markdown",
   "metadata": {},
   "source": [
    "Scenario:\n",
    " Running data analysis for an online IT learning platform. They wish to launch a subscription plan of $15 and want to know what two markets to target."
   ]
  },
  {
   "cell_type": "code",
   "execution_count": 1,
   "metadata": {
    "collapsed": true
   },
   "outputs": [],
   "source": [
    "import pandas as pd\n",
    "import numpy as np\n",
    "import matplotlib.pyplot as plt\n",
    "%matplotlib inline\n",
    "import seaborn as sns"
   ]
  },
  {
   "cell_type": "code",
   "execution_count": 2,
   "metadata": {
    "collapsed": false
   },
   "outputs": [],
   "source": [
    "surveys = pd.read_csv('2017-fCC-New-Coders-Survey-Data.csv',low_memory=False)"
   ]
  },
  {
   "cell_type": "code",
   "execution_count": 3,
   "metadata": {
    "collapsed": false
   },
   "outputs": [
    {
     "data": {
      "text/html": [
       "<div>\n",
       "<style scoped>\n",
       "    .dataframe tbody tr th:only-of-type {\n",
       "        vertical-align: middle;\n",
       "    }\n",
       "\n",
       "    .dataframe tbody tr th {\n",
       "        vertical-align: top;\n",
       "    }\n",
       "\n",
       "    .dataframe thead th {\n",
       "        text-align: right;\n",
       "    }\n",
       "</style>\n",
       "<table border=\"1\" class=\"dataframe\">\n",
       "  <thead>\n",
       "    <tr style=\"text-align: right;\">\n",
       "      <th></th>\n",
       "      <th>Age</th>\n",
       "      <th>AttendedBootcamp</th>\n",
       "      <th>BootcampFinish</th>\n",
       "      <th>BootcampLoanYesNo</th>\n",
       "      <th>BootcampName</th>\n",
       "      <th>BootcampRecommend</th>\n",
       "      <th>ChildrenNumber</th>\n",
       "      <th>CityPopulation</th>\n",
       "      <th>CodeEventConferences</th>\n",
       "      <th>CodeEventDjangoGirls</th>\n",
       "      <th>...</th>\n",
       "      <th>YouTubeFCC</th>\n",
       "      <th>YouTubeFunFunFunction</th>\n",
       "      <th>YouTubeGoogleDev</th>\n",
       "      <th>YouTubeLearnCode</th>\n",
       "      <th>YouTubeLevelUpTuts</th>\n",
       "      <th>YouTubeMIT</th>\n",
       "      <th>YouTubeMozillaHacks</th>\n",
       "      <th>YouTubeOther</th>\n",
       "      <th>YouTubeSimplilearn</th>\n",
       "      <th>YouTubeTheNewBoston</th>\n",
       "    </tr>\n",
       "  </thead>\n",
       "  <tbody>\n",
       "    <tr>\n",
       "      <th>0</th>\n",
       "      <td>27.0</td>\n",
       "      <td>0.0</td>\n",
       "      <td>NaN</td>\n",
       "      <td>NaN</td>\n",
       "      <td>NaN</td>\n",
       "      <td>NaN</td>\n",
       "      <td>NaN</td>\n",
       "      <td>more than 1 million</td>\n",
       "      <td>NaN</td>\n",
       "      <td>NaN</td>\n",
       "      <td>...</td>\n",
       "      <td>NaN</td>\n",
       "      <td>NaN</td>\n",
       "      <td>NaN</td>\n",
       "      <td>NaN</td>\n",
       "      <td>NaN</td>\n",
       "      <td>NaN</td>\n",
       "      <td>NaN</td>\n",
       "      <td>NaN</td>\n",
       "      <td>NaN</td>\n",
       "      <td>NaN</td>\n",
       "    </tr>\n",
       "    <tr>\n",
       "      <th>1</th>\n",
       "      <td>34.0</td>\n",
       "      <td>0.0</td>\n",
       "      <td>NaN</td>\n",
       "      <td>NaN</td>\n",
       "      <td>NaN</td>\n",
       "      <td>NaN</td>\n",
       "      <td>NaN</td>\n",
       "      <td>less than 100,000</td>\n",
       "      <td>NaN</td>\n",
       "      <td>NaN</td>\n",
       "      <td>...</td>\n",
       "      <td>1.0</td>\n",
       "      <td>NaN</td>\n",
       "      <td>NaN</td>\n",
       "      <td>NaN</td>\n",
       "      <td>NaN</td>\n",
       "      <td>NaN</td>\n",
       "      <td>NaN</td>\n",
       "      <td>NaN</td>\n",
       "      <td>NaN</td>\n",
       "      <td>NaN</td>\n",
       "    </tr>\n",
       "    <tr>\n",
       "      <th>2</th>\n",
       "      <td>21.0</td>\n",
       "      <td>0.0</td>\n",
       "      <td>NaN</td>\n",
       "      <td>NaN</td>\n",
       "      <td>NaN</td>\n",
       "      <td>NaN</td>\n",
       "      <td>NaN</td>\n",
       "      <td>more than 1 million</td>\n",
       "      <td>NaN</td>\n",
       "      <td>NaN</td>\n",
       "      <td>...</td>\n",
       "      <td>NaN</td>\n",
       "      <td>NaN</td>\n",
       "      <td>NaN</td>\n",
       "      <td>1.0</td>\n",
       "      <td>1.0</td>\n",
       "      <td>NaN</td>\n",
       "      <td>NaN</td>\n",
       "      <td>NaN</td>\n",
       "      <td>NaN</td>\n",
       "      <td>NaN</td>\n",
       "    </tr>\n",
       "    <tr>\n",
       "      <th>3</th>\n",
       "      <td>26.0</td>\n",
       "      <td>0.0</td>\n",
       "      <td>NaN</td>\n",
       "      <td>NaN</td>\n",
       "      <td>NaN</td>\n",
       "      <td>NaN</td>\n",
       "      <td>NaN</td>\n",
       "      <td>between 100,000 and 1 million</td>\n",
       "      <td>NaN</td>\n",
       "      <td>NaN</td>\n",
       "      <td>...</td>\n",
       "      <td>1.0</td>\n",
       "      <td>1.0</td>\n",
       "      <td>NaN</td>\n",
       "      <td>NaN</td>\n",
       "      <td>1.0</td>\n",
       "      <td>NaN</td>\n",
       "      <td>NaN</td>\n",
       "      <td>NaN</td>\n",
       "      <td>NaN</td>\n",
       "      <td>NaN</td>\n",
       "    </tr>\n",
       "    <tr>\n",
       "      <th>4</th>\n",
       "      <td>20.0</td>\n",
       "      <td>0.0</td>\n",
       "      <td>NaN</td>\n",
       "      <td>NaN</td>\n",
       "      <td>NaN</td>\n",
       "      <td>NaN</td>\n",
       "      <td>NaN</td>\n",
       "      <td>between 100,000 and 1 million</td>\n",
       "      <td>NaN</td>\n",
       "      <td>NaN</td>\n",
       "      <td>...</td>\n",
       "      <td>NaN</td>\n",
       "      <td>NaN</td>\n",
       "      <td>NaN</td>\n",
       "      <td>NaN</td>\n",
       "      <td>NaN</td>\n",
       "      <td>NaN</td>\n",
       "      <td>NaN</td>\n",
       "      <td>NaN</td>\n",
       "      <td>NaN</td>\n",
       "      <td>NaN</td>\n",
       "    </tr>\n",
       "  </tbody>\n",
       "</table>\n",
       "<p>5 rows × 136 columns</p>\n",
       "</div>"
      ],
      "text/plain": [
       "    Age  AttendedBootcamp  BootcampFinish  BootcampLoanYesNo BootcampName  \\\n",
       "0  27.0               0.0             NaN                NaN          NaN   \n",
       "1  34.0               0.0             NaN                NaN          NaN   \n",
       "2  21.0               0.0             NaN                NaN          NaN   \n",
       "3  26.0               0.0             NaN                NaN          NaN   \n",
       "4  20.0               0.0             NaN                NaN          NaN   \n",
       "\n",
       "   BootcampRecommend  ChildrenNumber                 CityPopulation  \\\n",
       "0                NaN             NaN            more than 1 million   \n",
       "1                NaN             NaN              less than 100,000   \n",
       "2                NaN             NaN            more than 1 million   \n",
       "3                NaN             NaN  between 100,000 and 1 million   \n",
       "4                NaN             NaN  between 100,000 and 1 million   \n",
       "\n",
       "   CodeEventConferences  CodeEventDjangoGirls         ...           \\\n",
       "0                   NaN                   NaN         ...            \n",
       "1                   NaN                   NaN         ...            \n",
       "2                   NaN                   NaN         ...            \n",
       "3                   NaN                   NaN         ...            \n",
       "4                   NaN                   NaN         ...            \n",
       "\n",
       "   YouTubeFCC  YouTubeFunFunFunction  YouTubeGoogleDev  YouTubeLearnCode  \\\n",
       "0         NaN                    NaN               NaN               NaN   \n",
       "1         1.0                    NaN               NaN               NaN   \n",
       "2         NaN                    NaN               NaN               1.0   \n",
       "3         1.0                    1.0               NaN               NaN   \n",
       "4         NaN                    NaN               NaN               NaN   \n",
       "\n",
       "   YouTubeLevelUpTuts  YouTubeMIT  YouTubeMozillaHacks YouTubeOther  \\\n",
       "0                 NaN         NaN                  NaN          NaN   \n",
       "1                 NaN         NaN                  NaN          NaN   \n",
       "2                 1.0         NaN                  NaN          NaN   \n",
       "3                 1.0         NaN                  NaN          NaN   \n",
       "4                 NaN         NaN                  NaN          NaN   \n",
       "\n",
       "   YouTubeSimplilearn  YouTubeTheNewBoston  \n",
       "0                 NaN                  NaN  \n",
       "1                 NaN                  NaN  \n",
       "2                 NaN                  NaN  \n",
       "3                 NaN                  NaN  \n",
       "4                 NaN                  NaN  \n",
       "\n",
       "[5 rows x 136 columns]"
      ]
     },
     "execution_count": 3,
     "metadata": {},
     "output_type": "execute_result"
    }
   ],
   "source": [
    "surveys.head()"
   ]
  },
  {
   "cell_type": "markdown",
   "metadata": {},
   "source": [
    "For the purpose of our analysis, we want to answer questions about a population of new coders that are interested in the subjects we teach. We'd like to know:\n",
    "\n",
    " - Where are these new coders located.\n",
    " - What are the locations with the greatest number of new coders.\n",
    " - How much money new coders are willing to spend on learning."
   ]
  },
  {
   "cell_type": "markdown",
   "metadata": {},
   "source": [
    "Before starting to analyze the sample data we have, we need to clarify whether it's representative for our population of interest and it has the right categories of people for our purpose."
   ]
  },
  {
   "cell_type": "code",
   "execution_count": 4,
   "metadata": {
    "collapsed": false
   },
   "outputs": [],
   "source": [
    "#surveys['JobRoleInterest'].head()\n",
    "jobs_dist ={}\n",
    "def ext(j):#function to extract jobs from the series\n",
    "    lis ={} #to store frequency table\n",
    "    for i in j:\n",
    "        if ',' not in i and i not in lis:\n",
    "            lis[i] = 1\n",
    "        elif ',' in i and len(i)>10:\n",
    "            multi_jobs = i.split(',')\n",
    "            for x in multi_jobs:\n",
    "                job = x.lstrip().rstrip()\n",
    "                if job not in lis:\n",
    "                    lis[job]=1\n",
    "                elif job in lis:\n",
    "                    lis[job]+=1\n",
    "        elif i in lis:\n",
    "            lis[i]+=1\n",
    "    return lis       \n",
    "jobs = ext(surveys['JobRoleInterest'].astype(str))\n"
   ]
  },
  {
   "cell_type": "code",
   "execution_count": 5,
   "metadata": {
    "collapsed": false
   },
   "outputs": [
    {
     "name": "stdout",
     "output_type": "stream",
     "text": [
      "{'College professor': 1, 'Library Developer': 1, 'Operating Systems': 1, 'Developer Evangelist': 1, 'Financial Services': 1, 'improving in my current career as a Learning technologist': 1, 'Any of them.': 1, 'Research': 1, 'Embedded hardware': 1, 'Software Engineer': 11, 'IoT': 1, 'Quality Assurance Engineer': 483, 'Technical Writer': 1, 'Java developer': 2, 'SWE': 1, 'Game Developer': 1628, 'software engineer': 1, 'Robotics Process Automation Specialist': 1, 'Networking': 1, '  User Experience Designer': 52, 'Systems Engineer': 1, 'Back-End Web Developer': 2772, 'Tech lobbiest': 1, 'Artificial Intelligence Engineer': 1, 'philosopher': 1, 'Data Visualization Specialist': 1, 'game': 1, 'Not sure': 2, 'Program Manager': 1, 'Cybersecurity': 1, 'User Interface Designer': 2, 'Desktop applications developer': 1, 'Information Technology': 1, 'Entreprenuer / Web Dev Hustler': 1, 'Network Engineer': 1, 'Urban Planner': 1, 'Physicist ': 1, 'Bioinformatitian': 1, 'milatary engineer': 1, '  Mobile Developer': 117, 'nan': 11183, 'Programmer': 2, 'Software Engineer (Computer Science Based)': 1, 'Data Engineer': 1248, 'System Engineer': 1, 'Entrepreneur': 1, 'Researcher': 2, '  Front-End Web Developer': 450, 'Data Reporter': 1, 'Desktop Applications': 1, 'Bioinformatics': 2, 'data journalist / data visualist': 1, 'undecided': 2, 'code developer...in whatever format': 1, 'Data visualisation': 1, 'Application Support Analyst': 1, 'Teacher. Teaching students to code. ': 1, 'Criminal Defense Attorney-- focusing on cyber crimes': 1, 'back end': 1, 'designer': 1, 'Teacher': 1, 'UX developer/designer': 1, 'Front-End Web Designer': 1, 'AI Developer': 1, 'Software developer': 1, 'Ethical Hacker': 2, 'Machine Learning Engineer': 3, 'Real-time systems': 1, 'Embedded Developer': 1, 'User Experience Designer': 1417, 'AI': 1, 'Scientific Programming': 1, 'Full Stack Developer ': 1, 'Founder': 1, 'Tech art': 1, 'VR Technology developer': 1, 'software developer': 1, 'Computer Architect': 1, 'idk': 1, 'Web developer': 1, 'plc': 1, 'Pharmaceutical industry': 1, 'Technology Management': 1, 'DevOps / SysAdmin': 891, 'back-end': 1, 'Data Analyst': 2, 'UI Design': 1, 'Web Design': 1, 'Project Management': 1, 'Journalist/Graphic Designer/Marketing': 1, 'Systems Programmer': 1, 'a job in which I can use coding skills to create valuable portals to advance human rights': 1, 'Web Designer': 2, 'AI and Machine Learning': 1, 'Marketing': 1, 'Information Architect': 1, 'Not sure!': 1, 'Machine learning and AI ': 1, 'Systems Programming': 1, 'Machine learning engineer': 1, \"I don't know yet!\": 1, 'Astrophysicist': 1, 'Software engineer': 3, 'Research ': 1, 'Software Developer or Front-End Web Developer': 1, 'Campaign Manager': 1, 'Network': 1, 'Informatician': 1, 'i dunno!!!!': 1, 'Web development ': 1, \"Don't know yet\": 1, \"This futurist's dream of using some tech in a way that inspires critical amounts of people to influence the changes we need to protect\": 1, 'Artificial intelligence': 1, 'AI and neuroscience': 1, 'Information Security': 1326, 'I am interested in Game Development': 1, 'Desktop Applications Programmer': 1, 'Non technical ': 1, 'Remote Support': 1, 'Not sure yet': 2, 'Security Business Analyst ': 1, 'Natural Language Processing': 1, 'BA or developer': 1, 'programmer': 2, 'Machine Learning': 2, 'Bioinformatics/science': 1, 'creative coder / generative artist/designer': 1, 'Growth Hacker': 1, 'Ceo': 1, 'Software Development': 1, 'Artificial Intelligence engineer': 1, 'lab scientist': 1, 'UI Designer': 1, \"I'm just learning code to increase my skill-set. I see it as a literacy issue.\": 1, 'Cloud computing ': 1, 'computer engineer': 1, 'Compilers': 1, 'Unsure': 2, 'Digital Humanitites': 1, \"i don't know what the difference is between most of these soz lol\": 1, 'web': 1, 'Product Manager': 759, 'Software Developper': 1, 'full-stack developer': 1, 'Software Engineers': 1, 'IoT Developer': 1, 'Technology-Business Liaison': 1, 'Programming': 1, 'Desings': 1, 'AI Engineer': 1, 'front-end': 1, 'Databases': 1, 'IT specialist': 1, 'Software engineer ': 1, 'Product Designer': 2, 'data analyst': 2, 'non-programmer': 1, '  Quality Assurance Engineer': 15, '  Data Scientist': 152, 'Robotics and AI Engineer': 1, 'app dev etc.': 1, 'GIS Developer': 1, 'Software Specialist ': 1, 'Full Stack Software Engineer': 1, 'GIS Database Admin': 1, 'Software Engineering': 1, 'network admin': 1, '  Product Manager': 55, 'email coder': 1, 'I dont yet know': 1, 'Robotics': 1, 'Document Controller': 1, 'Infrastructure Architect': 1, 'Not Sure Yet': 1, 'Quant (Algorithmic Trader)': 1, 'System Administrator/Network': 1, 'Full-Stack Web Developer': 4198, 'Education': 1, 'Marketing Automation ': 1, 'support scientific resaerch': 1, 'Front-End Web Developer': 3083, 'Bitcoin/Crypto': 1, 'Analyst': 1, 'Business Analyst': 2, 'User Interface Design': 1, 'mobile developer': 1, 'Data/Interactive Journalist': 1, 'Mobile Development': 1, 'etc...': 1, 'Anything that engages me': 1, 'Data Scientist': 1491, '  DevOps / SysAdmin': 36, 'Software enginner': 1, 'Data analyst': 1, 'Project Manager': 2, 'undeceided': 1, 'Pharmacy tech': 1, 'security expert': 1, 'Research and education': 1, 'Project manager': 1, 'Desktop Application Developer': 3, 'System Software': 1, 'Mobile Developer': 2187, 'Not Sure': 1, 'Software Developer': 6, 'Software Projects Manager': 1, 'full stack developer': 1, 'Front end': 1, 'Information Developer': 1, 'Python Developer': 1, 'Artificial Intelligence': 4, 'SEO': 1, 'Front End Web Development': 1, 'Journalist': 1, 'All - whatever is required to develop tools to revolutionize the mechanical engineering process': 1, 'virtual reality developer': 1, 'developer': 1, 'Support Engineer or API Support': 1}\n"
     ]
    }
   ],
   "source": [
    "print(jobs)# display the frequency table"
   ]
  },
  {
   "cell_type": "code",
   "execution_count": 6,
   "metadata": {
    "collapsed": false
   },
   "outputs": [],
   "source": [
    "#Convert to percentages\n",
    "job_df = pd.DataFrame(columns=['jobs'],index=jobs.keys())\n",
    "job_df['jobs']=jobs.values()"
   ]
  },
  {
   "cell_type": "code",
   "execution_count": 7,
   "metadata": {
    "collapsed": false,
    "scrolled": false
   },
   "outputs": [
    {
     "data": {
      "text/html": [
       "<div>\n",
       "<style scoped>\n",
       "    .dataframe tbody tr th:only-of-type {\n",
       "        vertical-align: middle;\n",
       "    }\n",
       "\n",
       "    .dataframe tbody tr th {\n",
       "        vertical-align: top;\n",
       "    }\n",
       "\n",
       "    .dataframe thead th {\n",
       "        text-align: right;\n",
       "    }\n",
       "</style>\n",
       "<table border=\"1\" class=\"dataframe\">\n",
       "  <thead>\n",
       "    <tr style=\"text-align: right;\">\n",
       "      <th></th>\n",
       "      <th>jobs</th>\n",
       "    </tr>\n",
       "  </thead>\n",
       "  <tbody>\n",
       "    <tr>\n",
       "      <th>nan</th>\n",
       "      <td>11183</td>\n",
       "    </tr>\n",
       "    <tr>\n",
       "      <th>Full-Stack Web Developer</th>\n",
       "      <td>4198</td>\n",
       "    </tr>\n",
       "    <tr>\n",
       "      <th>Front-End Web Developer</th>\n",
       "      <td>3083</td>\n",
       "    </tr>\n",
       "    <tr>\n",
       "      <th>Back-End Web Developer</th>\n",
       "      <td>2772</td>\n",
       "    </tr>\n",
       "    <tr>\n",
       "      <th>Mobile Developer</th>\n",
       "      <td>2187</td>\n",
       "    </tr>\n",
       "    <tr>\n",
       "      <th>Game Developer</th>\n",
       "      <td>1628</td>\n",
       "    </tr>\n",
       "    <tr>\n",
       "      <th>Data Scientist</th>\n",
       "      <td>1491</td>\n",
       "    </tr>\n",
       "    <tr>\n",
       "      <th>User Experience Designer</th>\n",
       "      <td>1417</td>\n",
       "    </tr>\n",
       "    <tr>\n",
       "      <th>Information Security</th>\n",
       "      <td>1326</td>\n",
       "    </tr>\n",
       "    <tr>\n",
       "      <th>Data Engineer</th>\n",
       "      <td>1248</td>\n",
       "    </tr>\n",
       "    <tr>\n",
       "      <th>DevOps / SysAdmin</th>\n",
       "      <td>891</td>\n",
       "    </tr>\n",
       "    <tr>\n",
       "      <th>Product Manager</th>\n",
       "      <td>759</td>\n",
       "    </tr>\n",
       "    <tr>\n",
       "      <th>Quality Assurance Engineer</th>\n",
       "      <td>483</td>\n",
       "    </tr>\n",
       "    <tr>\n",
       "      <th>Front-End Web Developer</th>\n",
       "      <td>450</td>\n",
       "    </tr>\n",
       "    <tr>\n",
       "      <th>Data Scientist</th>\n",
       "      <td>152</td>\n",
       "    </tr>\n",
       "    <tr>\n",
       "      <th>Mobile Developer</th>\n",
       "      <td>117</td>\n",
       "    </tr>\n",
       "    <tr>\n",
       "      <th>Product Manager</th>\n",
       "      <td>55</td>\n",
       "    </tr>\n",
       "    <tr>\n",
       "      <th>User Experience Designer</th>\n",
       "      <td>52</td>\n",
       "    </tr>\n",
       "    <tr>\n",
       "      <th>DevOps / SysAdmin</th>\n",
       "      <td>36</td>\n",
       "    </tr>\n",
       "    <tr>\n",
       "      <th>Quality Assurance Engineer</th>\n",
       "      <td>15</td>\n",
       "    </tr>\n",
       "    <tr>\n",
       "      <th>Software Engineer</th>\n",
       "      <td>11</td>\n",
       "    </tr>\n",
       "    <tr>\n",
       "      <th>Software Developer</th>\n",
       "      <td>6</td>\n",
       "    </tr>\n",
       "    <tr>\n",
       "      <th>Artificial Intelligence</th>\n",
       "      <td>4</td>\n",
       "    </tr>\n",
       "    <tr>\n",
       "      <th>Machine Learning Engineer</th>\n",
       "      <td>3</td>\n",
       "    </tr>\n",
       "    <tr>\n",
       "      <th>Desktop Application Developer</th>\n",
       "      <td>3</td>\n",
       "    </tr>\n",
       "    <tr>\n",
       "      <th>Software engineer</th>\n",
       "      <td>3</td>\n",
       "    </tr>\n",
       "    <tr>\n",
       "      <th>Researcher</th>\n",
       "      <td>2</td>\n",
       "    </tr>\n",
       "    <tr>\n",
       "      <th>data analyst</th>\n",
       "      <td>2</td>\n",
       "    </tr>\n",
       "    <tr>\n",
       "      <th>Programmer</th>\n",
       "      <td>2</td>\n",
       "    </tr>\n",
       "    <tr>\n",
       "      <th>Data Analyst</th>\n",
       "      <td>2</td>\n",
       "    </tr>\n",
       "    <tr>\n",
       "      <th>...</th>\n",
       "      <td>...</td>\n",
       "    </tr>\n",
       "    <tr>\n",
       "      <th>AI and neuroscience</th>\n",
       "      <td>1</td>\n",
       "    </tr>\n",
       "    <tr>\n",
       "      <th>I am interested in Game Development</th>\n",
       "      <td>1</td>\n",
       "    </tr>\n",
       "    <tr>\n",
       "      <th>Desktop Applications Programmer</th>\n",
       "      <td>1</td>\n",
       "    </tr>\n",
       "    <tr>\n",
       "      <th>Non technical</th>\n",
       "      <td>1</td>\n",
       "    </tr>\n",
       "    <tr>\n",
       "      <th>Remote Support</th>\n",
       "      <td>1</td>\n",
       "    </tr>\n",
       "    <tr>\n",
       "      <th>Not sure!</th>\n",
       "      <td>1</td>\n",
       "    </tr>\n",
       "    <tr>\n",
       "      <th>Marketing</th>\n",
       "      <td>1</td>\n",
       "    </tr>\n",
       "    <tr>\n",
       "      <th>Embedded Developer</th>\n",
       "      <td>1</td>\n",
       "    </tr>\n",
       "    <tr>\n",
       "      <th>Web developer</th>\n",
       "      <td>1</td>\n",
       "    </tr>\n",
       "    <tr>\n",
       "      <th>AI</th>\n",
       "      <td>1</td>\n",
       "    </tr>\n",
       "    <tr>\n",
       "      <th>Scientific Programming</th>\n",
       "      <td>1</td>\n",
       "    </tr>\n",
       "    <tr>\n",
       "      <th>Full Stack Developer</th>\n",
       "      <td>1</td>\n",
       "    </tr>\n",
       "    <tr>\n",
       "      <th>Founder</th>\n",
       "      <td>1</td>\n",
       "    </tr>\n",
       "    <tr>\n",
       "      <th>Tech art</th>\n",
       "      <td>1</td>\n",
       "    </tr>\n",
       "    <tr>\n",
       "      <th>VR Technology developer</th>\n",
       "      <td>1</td>\n",
       "    </tr>\n",
       "    <tr>\n",
       "      <th>software developer</th>\n",
       "      <td>1</td>\n",
       "    </tr>\n",
       "    <tr>\n",
       "      <th>Computer Architect</th>\n",
       "      <td>1</td>\n",
       "    </tr>\n",
       "    <tr>\n",
       "      <th>idk</th>\n",
       "      <td>1</td>\n",
       "    </tr>\n",
       "    <tr>\n",
       "      <th>plc</th>\n",
       "      <td>1</td>\n",
       "    </tr>\n",
       "    <tr>\n",
       "      <th>AI and Machine Learning</th>\n",
       "      <td>1</td>\n",
       "    </tr>\n",
       "    <tr>\n",
       "      <th>Pharmaceutical industry</th>\n",
       "      <td>1</td>\n",
       "    </tr>\n",
       "    <tr>\n",
       "      <th>Technology Management</th>\n",
       "      <td>1</td>\n",
       "    </tr>\n",
       "    <tr>\n",
       "      <th>back-end</th>\n",
       "      <td>1</td>\n",
       "    </tr>\n",
       "    <tr>\n",
       "      <th>UI Design</th>\n",
       "      <td>1</td>\n",
       "    </tr>\n",
       "    <tr>\n",
       "      <th>Web Design</th>\n",
       "      <td>1</td>\n",
       "    </tr>\n",
       "    <tr>\n",
       "      <th>Project Management</th>\n",
       "      <td>1</td>\n",
       "    </tr>\n",
       "    <tr>\n",
       "      <th>Journalist/Graphic Designer/Marketing</th>\n",
       "      <td>1</td>\n",
       "    </tr>\n",
       "    <tr>\n",
       "      <th>Systems Programmer</th>\n",
       "      <td>1</td>\n",
       "    </tr>\n",
       "    <tr>\n",
       "      <th>a job in which I can use coding skills to create valuable portals to advance human rights</th>\n",
       "      <td>1</td>\n",
       "    </tr>\n",
       "    <tr>\n",
       "      <th>Support Engineer or API Support</th>\n",
       "      <td>1</td>\n",
       "    </tr>\n",
       "  </tbody>\n",
       "</table>\n",
       "<p>218 rows × 1 columns</p>\n",
       "</div>"
      ],
      "text/plain": [
       "                                                     jobs\n",
       "nan                                                 11183\n",
       "Full-Stack Web Developer                             4198\n",
       "Front-End Web Developer                              3083\n",
       "Back-End Web Developer                               2772\n",
       "Mobile Developer                                     2187\n",
       "Game Developer                                       1628\n",
       "Data Scientist                                       1491\n",
       "User Experience Designer                             1417\n",
       "Information Security                                 1326\n",
       "Data Engineer                                        1248\n",
       "DevOps / SysAdmin                                     891\n",
       "Product Manager                                       759\n",
       "Quality Assurance Engineer                            483\n",
       "  Front-End Web Developer                             450\n",
       "  Data Scientist                                      152\n",
       "  Mobile Developer                                    117\n",
       "  Product Manager                                      55\n",
       "  User Experience Designer                             52\n",
       "  DevOps / SysAdmin                                    36\n",
       "  Quality Assurance Engineer                           15\n",
       "Software Engineer                                      11\n",
       "Software Developer                                      6\n",
       "Artificial Intelligence                                 4\n",
       "Machine Learning Engineer                               3\n",
       "Desktop Application Developer                           3\n",
       "Software engineer                                       3\n",
       "Researcher                                              2\n",
       "data analyst                                            2\n",
       "Programmer                                              2\n",
       "Data Analyst                                            2\n",
       "...                                                   ...\n",
       "AI and neuroscience                                     1\n",
       "I am interested in Game Development                     1\n",
       "Desktop Applications Programmer                         1\n",
       "Non technical                                           1\n",
       "Remote Support                                          1\n",
       "Not sure!                                               1\n",
       "Marketing                                               1\n",
       "Embedded Developer                                      1\n",
       "Web developer                                           1\n",
       "AI                                                      1\n",
       "Scientific Programming                                  1\n",
       "Full Stack Developer                                    1\n",
       "Founder                                                 1\n",
       "Tech art                                                1\n",
       "VR Technology developer                                 1\n",
       "software developer                                      1\n",
       "Computer Architect                                      1\n",
       "idk                                                     1\n",
       "plc                                                     1\n",
       "AI and Machine Learning                                 1\n",
       "Pharmaceutical industry                                 1\n",
       "Technology Management                                   1\n",
       "back-end                                                1\n",
       "UI Design                                               1\n",
       "Web Design                                              1\n",
       "Project Management                                      1\n",
       "Journalist/Graphic Designer/Marketing                   1\n",
       "Systems Programmer                                      1\n",
       "a job in which I can use coding skills to creat...      1\n",
       "Support Engineer or API Support                         1\n",
       "\n",
       "[218 rows x 1 columns]"
      ]
     },
     "execution_count": 7,
     "metadata": {},
     "output_type": "execute_result"
    }
   ],
   "source": [
    "job_df.sort_values('jobs',ascending=False)"
   ]
  },
  {
   "cell_type": "code",
   "execution_count": 8,
   "metadata": {
    "collapsed": false
   },
   "outputs": [
    {
     "data": {
      "text/plain": [
       "0                                                  NaN\n",
       "1                             Full-Stack Web Developer\n",
       "2      Front-End Web Developer, Back-End Web Develo...\n",
       "3      Front-End Web Developer, Full-Stack Web Deve...\n",
       "4    Full-Stack Web Developer, Information Security...\n",
       "Name: JobRoleInterest, dtype: object"
      ]
     },
     "execution_count": 8,
     "metadata": {},
     "output_type": "execute_result"
    }
   ],
   "source": [
    "surveys['JobRoleInterest'].head()\n"
   ]
  },
  {
   "cell_type": "markdown",
   "metadata": {},
   "source": [
    "People can be interested in more than one subject."
   ]
  },
  {
   "cell_type": "code",
   "execution_count": 9,
   "metadata": {
    "collapsed": false
   },
   "outputs": [],
   "source": [
    "job_df_no_na = job_df[job_df.index!='nan']#removing empty fields"
   ]
  },
  {
   "cell_type": "code",
   "execution_count": 10,
   "metadata": {
    "collapsed": false
   },
   "outputs": [],
   "source": [
    "# calculating the percentage of interest per job\n",
    "total = job_df_no_na['jobs'].sum()\n",
    "percentages = job_df_no_na['jobs'].sort_values().apply(lambda a: (a/total)*100)"
   ]
  },
  {
   "cell_type": "code",
   "execution_count": 11,
   "metadata": {
    "collapsed": false
   },
   "outputs": [
    {
     "data": {
      "text/plain": [
       "Full-Stack Web Developer                                     18.575221\n",
       "Front-End Web Developer                                      13.641593\n",
       "Back-End Web Developer                                       12.265487\n",
       "Mobile Developer                                              9.676991\n",
       "Game Developer                                                7.203540\n",
       "Data Scientist                                                6.597345\n",
       "User Experience Designer                                      6.269912\n",
       "Information Security                                          5.867257\n",
       "Data Engineer                                                 5.522124\n",
       "DevOps / SysAdmin                                             3.942478\n",
       "Product Manager                                               3.358407\n",
       "Quality Assurance Engineer                                    2.137168\n",
       "  Front-End Web Developer                                     1.991150\n",
       "  Data Scientist                                              0.672566\n",
       "  Mobile Developer                                            0.517699\n",
       "  Product Manager                                             0.243363\n",
       "  User Experience Designer                                    0.230088\n",
       "  DevOps / SysAdmin                                           0.159292\n",
       "  Quality Assurance Engineer                                  0.066372\n",
       "Software Engineer                                             0.048673\n",
       "Software Developer                                            0.026549\n",
       "Artificial Intelligence                                       0.017699\n",
       "Machine Learning Engineer                                     0.013274\n",
       "Software engineer                                             0.013274\n",
       "Desktop Application Developer                                 0.013274\n",
       "programmer                                                    0.008850\n",
       "Project Manager                                               0.008850\n",
       "Business Analyst                                              0.008850\n",
       "Not sure yet                                                  0.008850\n",
       "Not sure                                                      0.008850\n",
       "                                                               ...    \n",
       "non-programmer                                                0.004425\n",
       "User Interface Design                                         0.004425\n",
       "Analyst                                                       0.004425\n",
       "Bitcoin/Crypto                                                0.004425\n",
       "support scientific resaerch                                   0.004425\n",
       "Marketing Automation                                          0.004425\n",
       "Education                                                     0.004425\n",
       "Desktop applications developer                                0.004425\n",
       "Data Reporter                                                 0.004425\n",
       "Technical Writer                                              0.004425\n",
       "Library Developer                                             0.004425\n",
       "IoT                                                           0.004425\n",
       "Embedded hardware                                             0.004425\n",
       "Research                                                      0.004425\n",
       "Any of them.                                                  0.004425\n",
       "improving in my current career as a Learning technologist     0.004425\n",
       "Financial Services                                            0.004425\n",
       "Developer Evangelist                                          0.004425\n",
       "Operating Systems                                             0.004425\n",
       "game                                                          0.004425\n",
       "Desktop Applications                                          0.004425\n",
       "Program Manager                                               0.004425\n",
       "Cybersecurity                                                 0.004425\n",
       "Entrepreneur                                                  0.004425\n",
       "Teacher. Teaching students to code.                           0.004425\n",
       "Application Support Analyst                                   0.004425\n",
       "Data visualisation                                            0.004425\n",
       "code developer...in whatever format                           0.004425\n",
       "data journalist / data visualist                              0.004425\n",
       "College professor                                             0.004425\n",
       "Name: jobs, Length: 217, dtype: float64"
      ]
     },
     "execution_count": 11,
     "metadata": {},
     "output_type": "execute_result"
    }
   ],
   "source": [
    "percentages.sort_values(ascending=False)"
   ]
  },
  {
   "cell_type": "markdown",
   "metadata": {},
   "source": [
    "Now that we found out that the sample has the right categories of people for our purpose, we can begin analyzing it. We can start with finding out where these new coders are located, and what are the densities (how many coders there are) for each location."
   ]
  },
  {
   "cell_type": "markdown",
   "metadata": {},
   "source": [
    "The data set provides information about the location of each participant at a country level. The CountryCitizen variable describes the country of origin for each participant, and the CountryLive variable describes what country each participants lives in (which may be different than the origin country).\n",
    "\n",
    "For our analysis, we'll work with the CountryLive variable because we're interested where people actually live at the moment when we run the ads. In other words, we're interested where people are located, not where they were born."
   ]
  },
  {
   "cell_type": "markdown",
   "metadata": {},
   "source": [
    "Because the data set provides information at a country level, we can think of each country as an individual market. This means we can frame our goal as finding the two best countries to advertise in.\n",
    "\n",
    "One indicator of a good market is the number of potential customers — the more potential customers in a market, the better. If our ads manage to convince 10% of the 5000 potential customers in market A to buy our product, then this is better than convincing 100% of the 30 potential customers in market B."
   ]
  },
  {
   "cell_type": "code",
   "execution_count": 12,
   "metadata": {
    "collapsed": false
   },
   "outputs": [
    {
     "data": {
      "text/plain": [
       "United States of America         5791\n",
       "India                            1400\n",
       "United Kingdom                    757\n",
       "Canada                            616\n",
       "Brazil                            364\n",
       "Germany                           324\n",
       "Poland                            265\n",
       "Russia                            263\n",
       "Australia                         259\n",
       "France                            228\n",
       "Spain                             217\n",
       "Nigeria                           214\n",
       "Ukraine                           202\n",
       "Romania                           171\n",
       "Italy                             164\n",
       "Mexico                            155\n",
       "Netherlands (Holland, Europe)     142\n",
       "Philippines                       135\n",
       "South Africa                      126\n",
       "Turkey                            120\n",
       "Greece                            116\n",
       "Serbia                            115\n",
       "Argentina                         113\n",
       "Pakistan                          109\n",
       "Kenya                              92\n",
       "Indonesia                          91\n",
       "China                              90\n",
       "Egypt                              87\n",
       "Sweden                             80\n",
       "Hungary                            77\n",
       "                                 ... \n",
       "Ethiopia                            2\n",
       "Benin                               2\n",
       "Hawaii                              1\n",
       "Burundi                             1\n",
       "Gibraltar                           1\n",
       "Curacao                             1\n",
       "Anguilla                            1\n",
       "Martinique                          1\n",
       "Greenland                           1\n",
       "Korea North                         1\n",
       "Botswana                            1\n",
       "Barbados                            1\n",
       "Madagascar                          1\n",
       "Virgin Islands (British)            1\n",
       "Sierra Leone                        1\n",
       "Liberia                             1\n",
       "Aruba                               1\n",
       "Samoa                               1\n",
       "Canary Islands                      1\n",
       "Gabon                               1\n",
       "Rwanda                              1\n",
       "Bermuda                             1\n",
       "New Caledonia                       1\n",
       "Channel Islands                     1\n",
       "Tajikistan                          1\n",
       "Vanuatu                             1\n",
       "Isle of Man                         1\n",
       "Guadeloupe                          1\n",
       "British Indian Ocean Ter            1\n",
       "Kuwait                              1\n",
       "Name: CountryLive, Length: 172, dtype: int64"
      ]
     },
     "execution_count": 12,
     "metadata": {},
     "output_type": "execute_result"
    }
   ],
   "source": [
    "surveys['CountryLive'].value_counts()"
   ]
  },
  {
   "cell_type": "markdown",
   "metadata": {},
   "source": [
    "USA and India are the most frequent countries according to the dataset. But the analysis cant stop here.\n",
    "\n",
    "We need to go more in depth with our analysis before taking a decision. We can continue by figuring out how much money new coders are actually willing to spend on learning. \n",
    "\n",
    "*Advertising within markets where most people are only willing to learn for free is extremely unlikely to be profitable for us."
   ]
  },
  {
   "cell_type": "markdown",
   "metadata": {},
   "source": [
    "The **MoneyForLearning** column describes in American dollars the amount of money spent by participants from the moment they started coding until the moment they completed the survey. Our company sells subscriptions at a price of $59 per month, and for this reason we're interested in finding out how much money each student spends per month."
   ]
  },
  {
   "cell_type": "markdown",
   "metadata": {},
   "source": [
    "It also seems like a good idea to narrow down our analysis to only four countries: the US, India, the United Kingdom, and Canada. Two reasons for this decision are:\n",
    "\n",
    "These are the countries having the highest absolute frequencies in our sample, which means we have a decent amount of data for each.\n",
    "Our courses are written in English, and English is an official language in all these four countries. The more people that know English, the better our chances to target the right people with our ads."
   ]
  },
  {
   "cell_type": "code",
   "execution_count": 13,
   "metadata": {
    "collapsed": false
   },
   "outputs": [
    {
     "data": {
      "text/plain": [
       "dtype('float64')"
      ]
     },
     "execution_count": 13,
     "metadata": {},
     "output_type": "execute_result"
    }
   ],
   "source": [
    "surveys['MonthsProgramming'].dtype"
   ]
  },
  {
   "cell_type": "markdown",
   "metadata": {},
   "source": [
    "Creating a new column that describes the amount of money a student has spent per month (at the moment they completed the survey).\n",
    "\n",
    "Will need to divide the **MoneyForLearning** column to the **MonthsProgramming** column.\n",
    "\n",
    "Some students answered that they had been learning to code for 0 months (it might be that they had just started when they completed the survey). To avoid dividing by 0, replace all the values of 0 with 1."
   ]
  },
  {
   "cell_type": "code",
   "execution_count": 14,
   "metadata": {
    "collapsed": false
   },
   "outputs": [],
   "source": [
    "surveys['MonthsProgramming']=surveys['MonthsProgramming'].replace({0:1})"
   ]
  },
  {
   "cell_type": "code",
   "execution_count": 15,
   "metadata": {
    "collapsed": false
   },
   "outputs": [
    {
     "data": {
      "text/plain": [
       "0"
      ]
     },
     "execution_count": 15,
     "metadata": {},
     "output_type": "execute_result"
    }
   ],
   "source": [
    "#confirming that 0 was replaced with 1\n",
    "surveys[surveys['MonthsProgramming']==0]['MonthsProgramming'].count()"
   ]
  },
  {
   "cell_type": "code",
   "execution_count": 16,
   "metadata": {
    "collapsed": true
   },
   "outputs": [],
   "source": [
    "surveys['dol_per_month']=surveys['MoneyForLearning']/surveys['MonthsProgramming']"
   ]
  },
  {
   "cell_type": "code",
   "execution_count": 17,
   "metadata": {
    "collapsed": false
   },
   "outputs": [
    {
     "data": {
      "text/plain": [
       "1995"
      ]
     },
     "execution_count": 17,
     "metadata": {},
     "output_type": "execute_result"
    }
   ],
   "source": [
    "surveys['dol_per_month'].isnull().sum()"
   ]
  },
  {
   "cell_type": "markdown",
   "metadata": {},
   "source": [
    "There are 1995 null values"
   ]
  },
  {
   "cell_type": "code",
   "execution_count": 18,
   "metadata": {
    "collapsed": false
   },
   "outputs": [],
   "source": [
    "surveys = surveys.dropna(subset=['dol_per_month','CountryLive'])"
   ]
  },
  {
   "cell_type": "markdown",
   "metadata": {},
   "source": [
    "Removed rows with null values in columns 'dol_per_month' and 'CountryLive'"
   ]
  },
  {
   "cell_type": "code",
   "execution_count": 19,
   "metadata": {
    "collapsed": false
   },
   "outputs": [
    {
     "data": {
      "text/html": [
       "<div>\n",
       "<style scoped>\n",
       "    .dataframe tbody tr th:only-of-type {\n",
       "        vertical-align: middle;\n",
       "    }\n",
       "\n",
       "    .dataframe tbody tr th {\n",
       "        vertical-align: top;\n",
       "    }\n",
       "\n",
       "    .dataframe thead th {\n",
       "        text-align: right;\n",
       "    }\n",
       "</style>\n",
       "<table border=\"1\" class=\"dataframe\">\n",
       "  <thead>\n",
       "    <tr style=\"text-align: right;\">\n",
       "      <th></th>\n",
       "      <th>mean</th>\n",
       "      <th>median</th>\n",
       "    </tr>\n",
       "    <tr>\n",
       "      <th>CountryLive</th>\n",
       "      <th></th>\n",
       "      <th></th>\n",
       "    </tr>\n",
       "  </thead>\n",
       "  <tbody>\n",
       "    <tr>\n",
       "      <th>Yemen</th>\n",
       "      <td>5000.000000</td>\n",
       "      <td>5000.000000</td>\n",
       "    </tr>\n",
       "    <tr>\n",
       "      <th>Puerto Rico</th>\n",
       "      <td>2157.500000</td>\n",
       "      <td>3.452381</td>\n",
       "    </tr>\n",
       "    <tr>\n",
       "      <th>Jamaica</th>\n",
       "      <td>518.247863</td>\n",
       "      <td>0.000000</td>\n",
       "    </tr>\n",
       "    <tr>\n",
       "      <th>Spain</th>\n",
       "      <td>419.243757</td>\n",
       "      <td>2.607143</td>\n",
       "    </tr>\n",
       "    <tr>\n",
       "      <th>Austria</th>\n",
       "      <td>397.392153</td>\n",
       "      <td>5.217391</td>\n",
       "    </tr>\n",
       "    <tr>\n",
       "      <th>Malawi</th>\n",
       "      <td>378.583333</td>\n",
       "      <td>378.583333</td>\n",
       "    </tr>\n",
       "    <tr>\n",
       "      <th>New Zealand</th>\n",
       "      <td>285.678857</td>\n",
       "      <td>3.750000</td>\n",
       "    </tr>\n",
       "    <tr>\n",
       "      <th>Niger</th>\n",
       "      <td>270.082143</td>\n",
       "      <td>3.625000</td>\n",
       "    </tr>\n",
       "    <tr>\n",
       "      <th>Luxembourg</th>\n",
       "      <td>219.136142</td>\n",
       "      <td>19.230769</td>\n",
       "    </tr>\n",
       "    <tr>\n",
       "      <th>Taiwan</th>\n",
       "      <td>212.273011</td>\n",
       "      <td>18.333333</td>\n",
       "    </tr>\n",
       "    <tr>\n",
       "      <th>Hong Kong</th>\n",
       "      <td>209.483625</td>\n",
       "      <td>0.000000</td>\n",
       "    </tr>\n",
       "    <tr>\n",
       "      <th>United States of America</th>\n",
       "      <td>206.297711</td>\n",
       "      <td>4.166667</td>\n",
       "    </tr>\n",
       "    <tr>\n",
       "      <th>Madagascar</th>\n",
       "      <td>200.000000</td>\n",
       "      <td>200.000000</td>\n",
       "    </tr>\n",
       "    <tr>\n",
       "      <th>Australia</th>\n",
       "      <td>197.509846</td>\n",
       "      <td>3.529412</td>\n",
       "    </tr>\n",
       "    <tr>\n",
       "      <th>Portugal</th>\n",
       "      <td>176.130272</td>\n",
       "      <td>0.000000</td>\n",
       "    </tr>\n",
       "    <tr>\n",
       "      <th>Cayman Islands</th>\n",
       "      <td>175.000000</td>\n",
       "      <td>175.000000</td>\n",
       "    </tr>\n",
       "    <tr>\n",
       "      <th>Norway</th>\n",
       "      <td>161.969342</td>\n",
       "      <td>0.000000</td>\n",
       "    </tr>\n",
       "    <tr>\n",
       "      <th>Uganda</th>\n",
       "      <td>152.199074</td>\n",
       "      <td>30.555556</td>\n",
       "    </tr>\n",
       "    <tr>\n",
       "      <th>Israel</th>\n",
       "      <td>131.298160</td>\n",
       "      <td>2.083333</td>\n",
       "    </tr>\n",
       "    <tr>\n",
       "      <th>Russia</th>\n",
       "      <td>129.173830</td>\n",
       "      <td>0.000000</td>\n",
       "    </tr>\n",
       "    <tr>\n",
       "      <th>Vietnam</th>\n",
       "      <td>118.888607</td>\n",
       "      <td>2.000000</td>\n",
       "    </tr>\n",
       "    <tr>\n",
       "      <th>Canada</th>\n",
       "      <td>118.434054</td>\n",
       "      <td>1.631944</td>\n",
       "    </tr>\n",
       "    <tr>\n",
       "      <th>Korea South</th>\n",
       "      <td>114.226601</td>\n",
       "      <td>6.000000</td>\n",
       "    </tr>\n",
       "    <tr>\n",
       "      <th>Nigeria</th>\n",
       "      <td>107.257487</td>\n",
       "      <td>4.583333</td>\n",
       "    </tr>\n",
       "    <tr>\n",
       "      <th>Mozambique</th>\n",
       "      <td>102.380952</td>\n",
       "      <td>7.142857</td>\n",
       "    </tr>\n",
       "    <tr>\n",
       "      <th>Trinidad &amp; Tobago</th>\n",
       "      <td>101.285714</td>\n",
       "      <td>0.000000</td>\n",
       "    </tr>\n",
       "    <tr>\n",
       "      <th>Hawaii</th>\n",
       "      <td>100.000000</td>\n",
       "      <td>100.000000</td>\n",
       "    </tr>\n",
       "    <tr>\n",
       "      <th>China</th>\n",
       "      <td>99.708441</td>\n",
       "      <td>2.291667</td>\n",
       "    </tr>\n",
       "    <tr>\n",
       "      <th>Poland</th>\n",
       "      <td>94.262158</td>\n",
       "      <td>0.666667</td>\n",
       "    </tr>\n",
       "    <tr>\n",
       "      <th>Uruguay</th>\n",
       "      <td>89.901852</td>\n",
       "      <td>0.000000</td>\n",
       "    </tr>\n",
       "    <tr>\n",
       "      <th>...</th>\n",
       "      <td>...</td>\n",
       "      <td>...</td>\n",
       "    </tr>\n",
       "    <tr>\n",
       "      <th>Algeria</th>\n",
       "      <td>2.987654</td>\n",
       "      <td>0.000000</td>\n",
       "    </tr>\n",
       "    <tr>\n",
       "      <th>Guatemala</th>\n",
       "      <td>2.581081</td>\n",
       "      <td>0.000000</td>\n",
       "    </tr>\n",
       "    <tr>\n",
       "      <th>Georgia</th>\n",
       "      <td>1.767677</td>\n",
       "      <td>0.000000</td>\n",
       "    </tr>\n",
       "    <tr>\n",
       "      <th>Iceland</th>\n",
       "      <td>1.298467</td>\n",
       "      <td>0.103448</td>\n",
       "    </tr>\n",
       "    <tr>\n",
       "      <th>Lebanon</th>\n",
       "      <td>1.250000</td>\n",
       "      <td>0.000000</td>\n",
       "    </tr>\n",
       "    <tr>\n",
       "      <th>Burundi</th>\n",
       "      <td>1.041667</td>\n",
       "      <td>1.041667</td>\n",
       "    </tr>\n",
       "    <tr>\n",
       "      <th>Gibraltar</th>\n",
       "      <td>0.833333</td>\n",
       "      <td>0.833333</td>\n",
       "    </tr>\n",
       "    <tr>\n",
       "      <th>Cote D'Ivoire</th>\n",
       "      <td>0.666667</td>\n",
       "      <td>0.000000</td>\n",
       "    </tr>\n",
       "    <tr>\n",
       "      <th>Maldives</th>\n",
       "      <td>0.563920</td>\n",
       "      <td>0.218750</td>\n",
       "    </tr>\n",
       "    <tr>\n",
       "      <th>Virgin Islands (British)</th>\n",
       "      <td>0.000000</td>\n",
       "      <td>0.000000</td>\n",
       "    </tr>\n",
       "    <tr>\n",
       "      <th>Bahrain</th>\n",
       "      <td>0.000000</td>\n",
       "      <td>0.000000</td>\n",
       "    </tr>\n",
       "    <tr>\n",
       "      <th>Botswana</th>\n",
       "      <td>0.000000</td>\n",
       "      <td>0.000000</td>\n",
       "    </tr>\n",
       "    <tr>\n",
       "      <th>Anguilla</th>\n",
       "      <td>0.000000</td>\n",
       "      <td>0.000000</td>\n",
       "    </tr>\n",
       "    <tr>\n",
       "      <th>Barbados</th>\n",
       "      <td>0.000000</td>\n",
       "      <td>0.000000</td>\n",
       "    </tr>\n",
       "    <tr>\n",
       "      <th>Vanuatu</th>\n",
       "      <td>0.000000</td>\n",
       "      <td>0.000000</td>\n",
       "    </tr>\n",
       "    <tr>\n",
       "      <th>New Caledonia</th>\n",
       "      <td>0.000000</td>\n",
       "      <td>0.000000</td>\n",
       "    </tr>\n",
       "    <tr>\n",
       "      <th>Bermuda</th>\n",
       "      <td>0.000000</td>\n",
       "      <td>0.000000</td>\n",
       "    </tr>\n",
       "    <tr>\n",
       "      <th>Channel Islands</th>\n",
       "      <td>0.000000</td>\n",
       "      <td>0.000000</td>\n",
       "    </tr>\n",
       "    <tr>\n",
       "      <th>Samoa</th>\n",
       "      <td>0.000000</td>\n",
       "      <td>0.000000</td>\n",
       "    </tr>\n",
       "    <tr>\n",
       "      <th>Canary Islands</th>\n",
       "      <td>0.000000</td>\n",
       "      <td>0.000000</td>\n",
       "    </tr>\n",
       "    <tr>\n",
       "      <th>Honduras</th>\n",
       "      <td>0.000000</td>\n",
       "      <td>0.000000</td>\n",
       "    </tr>\n",
       "    <tr>\n",
       "      <th>Cuba</th>\n",
       "      <td>0.000000</td>\n",
       "      <td>0.000000</td>\n",
       "    </tr>\n",
       "    <tr>\n",
       "      <th>Curacao</th>\n",
       "      <td>0.000000</td>\n",
       "      <td>0.000000</td>\n",
       "    </tr>\n",
       "    <tr>\n",
       "      <th>Korea North</th>\n",
       "      <td>0.000000</td>\n",
       "      <td>0.000000</td>\n",
       "    </tr>\n",
       "    <tr>\n",
       "      <th>Sierra Leone</th>\n",
       "      <td>0.000000</td>\n",
       "      <td>0.000000</td>\n",
       "    </tr>\n",
       "    <tr>\n",
       "      <th>Sudan</th>\n",
       "      <td>0.000000</td>\n",
       "      <td>0.000000</td>\n",
       "    </tr>\n",
       "    <tr>\n",
       "      <th>Guadeloupe</th>\n",
       "      <td>0.000000</td>\n",
       "      <td>0.000000</td>\n",
       "    </tr>\n",
       "    <tr>\n",
       "      <th>Isle of Man</th>\n",
       "      <td>0.000000</td>\n",
       "      <td>0.000000</td>\n",
       "    </tr>\n",
       "    <tr>\n",
       "      <th>Haiti</th>\n",
       "      <td>0.000000</td>\n",
       "      <td>0.000000</td>\n",
       "    </tr>\n",
       "    <tr>\n",
       "      <th>Kuwait</th>\n",
       "      <td>0.000000</td>\n",
       "      <td>0.000000</td>\n",
       "    </tr>\n",
       "  </tbody>\n",
       "</table>\n",
       "<p>168 rows × 2 columns</p>\n",
       "</div>"
      ],
      "text/plain": [
       "                                 mean       median\n",
       "CountryLive                                       \n",
       "Yemen                     5000.000000  5000.000000\n",
       "Puerto Rico               2157.500000     3.452381\n",
       "Jamaica                    518.247863     0.000000\n",
       "Spain                      419.243757     2.607143\n",
       "Austria                    397.392153     5.217391\n",
       "Malawi                     378.583333   378.583333\n",
       "New Zealand                285.678857     3.750000\n",
       "Niger                      270.082143     3.625000\n",
       "Luxembourg                 219.136142    19.230769\n",
       "Taiwan                     212.273011    18.333333\n",
       "Hong Kong                  209.483625     0.000000\n",
       "United States of America   206.297711     4.166667\n",
       "Madagascar                 200.000000   200.000000\n",
       "Australia                  197.509846     3.529412\n",
       "Portugal                   176.130272     0.000000\n",
       "Cayman Islands             175.000000   175.000000\n",
       "Norway                     161.969342     0.000000\n",
       "Uganda                     152.199074    30.555556\n",
       "Israel                     131.298160     2.083333\n",
       "Russia                     129.173830     0.000000\n",
       "Vietnam                    118.888607     2.000000\n",
       "Canada                     118.434054     1.631944\n",
       "Korea South                114.226601     6.000000\n",
       "Nigeria                    107.257487     4.583333\n",
       "Mozambique                 102.380952     7.142857\n",
       "Trinidad & Tobago          101.285714     0.000000\n",
       "Hawaii                     100.000000   100.000000\n",
       "China                       99.708441     2.291667\n",
       "Poland                      94.262158     0.666667\n",
       "Uruguay                     89.901852     0.000000\n",
       "...                               ...          ...\n",
       "Algeria                      2.987654     0.000000\n",
       "Guatemala                    2.581081     0.000000\n",
       "Georgia                      1.767677     0.000000\n",
       "Iceland                      1.298467     0.103448\n",
       "Lebanon                      1.250000     0.000000\n",
       "Burundi                      1.041667     1.041667\n",
       "Gibraltar                    0.833333     0.833333\n",
       "Cote D'Ivoire                0.666667     0.000000\n",
       "Maldives                     0.563920     0.218750\n",
       "Virgin Islands (British)     0.000000     0.000000\n",
       "Bahrain                      0.000000     0.000000\n",
       "Botswana                     0.000000     0.000000\n",
       "Anguilla                     0.000000     0.000000\n",
       "Barbados                     0.000000     0.000000\n",
       "Vanuatu                      0.000000     0.000000\n",
       "New Caledonia                0.000000     0.000000\n",
       "Bermuda                      0.000000     0.000000\n",
       "Channel Islands              0.000000     0.000000\n",
       "Samoa                        0.000000     0.000000\n",
       "Canary Islands               0.000000     0.000000\n",
       "Honduras                     0.000000     0.000000\n",
       "Cuba                         0.000000     0.000000\n",
       "Curacao                      0.000000     0.000000\n",
       "Korea North                  0.000000     0.000000\n",
       "Sierra Leone                 0.000000     0.000000\n",
       "Sudan                        0.000000     0.000000\n",
       "Guadeloupe                   0.000000     0.000000\n",
       "Isle of Man                  0.000000     0.000000\n",
       "Haiti                        0.000000     0.000000\n",
       "Kuwait                       0.000000     0.000000\n",
       "\n",
       "[168 rows x 2 columns]"
      ]
     },
     "execution_count": 19,
     "metadata": {},
     "output_type": "execute_result"
    }
   ],
   "source": [
    "surveys.groupby('CountryLive')['dol_per_month'].agg(['mean','median']).sort_values('mean',ascending=False)"
   ]
  },
  {
   "cell_type": "markdown",
   "metadata": {},
   "source": [
    "The means look off. There are extreme outliers; like Yemen and Puerto Rico."
   ]
  },
  {
   "cell_type": "markdown",
   "metadata": {},
   "source": [
    "- The results for the United Kingdom and Canada are surprisingly low relative to the values we see for India. If we considered a few socio-economical metrics (like GDP per capita), we'd intuitively expect people in the UK and Canada to spend more on learning than people in India.\n",
    "\n",
    "It might be that we don't have have enough representative data for the United Kingdom, Canada, and India, or we have some outliers (maybe coming from wrong survey answers) making the mean too big for India, or too low for the UK and Canada. Or it might be that the results are correct."
   ]
  },
  {
   "cell_type": "code",
   "execution_count": 20,
   "metadata": {
    "collapsed": true
   },
   "outputs": [],
   "source": [
    "usa = surveys[surveys['CountryLive']=='United States of America']\n",
    "india = surveys[surveys['CountryLive']=='India']\n",
    "canada = surveys[surveys['CountryLive']=='Canada']\n",
    "uk = surveys[surveys['CountryLive']=='United Kingdom']\n"
   ]
  },
  {
   "cell_type": "code",
   "execution_count": 21,
   "metadata": {
    "collapsed": false
   },
   "outputs": [
    {
     "data": {
      "text/plain": [
       "<matplotlib.axes._subplots.AxesSubplot at 0x7fd2eb937b38>"
      ]
     },
     "execution_count": 21,
     "metadata": {},
     "output_type": "execute_result"
    },
    {
     "data": {
      "image/png": "[encoded data removed]",
      "text/plain": [
       "<matplotlib.figure.Figure at 0x7fd2ec2183c8>"
      ]
     },
     "metadata": {},
     "output_type": "display_data"
    }
   ],
   "source": [
    "india['dol_per_month'].plot.box(ylim=(0,25))\n"
   ]
  },
  {
   "cell_type": "code",
   "execution_count": 22,
   "metadata": {
    "collapsed": false
   },
   "outputs": [
    {
     "data": {
      "text/plain": [
       "<matplotlib.axes._subplots.AxesSubplot at 0x7fd2ec27b748>"
      ]
     },
     "execution_count": 22,
     "metadata": {},
     "output_type": "execute_result"
    },
    {
     "data": {
      "image/png": "[encoded data removed]",
      "text/plain": [
       "<matplotlib.figure.Figure at 0x7fd2ec2b6f60>"
      ]
     },
     "metadata": {},
     "output_type": "display_data"
    }
   ],
   "source": [
    "usa['dol_per_month'].plot.box(ylim=(0,500))"
   ]
  },
  {
   "cell_type": "code",
   "execution_count": 23,
   "metadata": {
    "collapsed": false
   },
   "outputs": [
    {
     "data": {
      "text/plain": [
       "<matplotlib.axes._subplots.AxesSubplot at 0x7fd2ec2b0c88>"
      ]
     },
     "execution_count": 23,
     "metadata": {},
     "output_type": "execute_result"
    },
    {
     "data": {
      "image/png": "[encoded data removed]",
      "text/plain": [
       "<matplotlib.figure.Figure at 0x7fd2ec17c1d0>"
      ]
     },
     "metadata": {},
     "output_type": "display_data"
    }
   ],
   "source": [
    "canada['dol_per_month'].plot.box(ylim=(0,200))"
   ]
  },
  {
   "cell_type": "code",
   "execution_count": 24,
   "metadata": {
    "collapsed": false
   },
   "outputs": [
    {
     "data": {
      "text/plain": [
       "<matplotlib.axes._subplots.AxesSubplot at 0x7fd2ec16e128>"
      ]
     },
     "execution_count": 24,
     "metadata": {},
     "output_type": "execute_result"
    },
    {
     "data": {
      "image/png": "[encoded data removed]",
      "text/plain": [
       "<matplotlib.figure.Figure at 0x7fd2ec1019e8>"
      ]
     },
     "metadata": {},
     "output_type": "display_data"
    }
   ],
   "source": [
    "uk['dol_per_month'].plot.box(ylim=(0,200))"
   ]
  },
  {
   "cell_type": "markdown",
   "metadata": {},
   "source": [
    "The box-plot was used to get the outliers for each country; with regards to the dollars paid per month on learning."
   ]
  },
  {
   "cell_type": "code",
   "execution_count": 25,
   "metadata": {
    "collapsed": false
   },
   "outputs": [
    {
     "data": {
      "text/plain": [
       "1221"
      ]
     },
     "execution_count": 25,
     "metadata": {},
     "output_type": "execute_result"
    }
   ],
   "source": [
    "india.shape[0]#before removing the outliers"
   ]
  },
  {
   "cell_type": "code",
   "execution_count": 26,
   "metadata": {
    "collapsed": false
   },
   "outputs": [
    {
     "data": {
      "text/plain": [
       "1119"
      ]
     },
     "execution_count": 26,
     "metadata": {},
     "output_type": "execute_result"
    }
   ],
   "source": [
    "india = india[india['dol_per_month']<100]\n",
    "india.shape[0]#after removing outliers"
   ]
  },
  {
   "cell_type": "code",
   "execution_count": 27,
   "metadata": {
    "collapsed": false
   },
   "outputs": [
    {
     "data": {
      "text/plain": [
       "578"
      ]
     },
     "execution_count": 27,
     "metadata": {},
     "output_type": "execute_result"
    }
   ],
   "source": [
    "canada.shape[0]#before removing the outliers"
   ]
  },
  {
   "cell_type": "code",
   "execution_count": 28,
   "metadata": {
    "collapsed": false
   },
   "outputs": [
    {
     "data": {
      "text/plain": [
       "486"
      ]
     },
     "execution_count": 28,
     "metadata": {},
     "output_type": "execute_result"
    }
   ],
   "source": [
    "canada = canada[canada['dol_per_month']<100]\n",
    "canada.shape[0]#after removing outliers"
   ]
  },
  {
   "cell_type": "code",
   "execution_count": 29,
   "metadata": {
    "collapsed": false
   },
   "outputs": [
    {
     "data": {
      "text/plain": [
       "5471"
      ]
     },
     "execution_count": 29,
     "metadata": {},
     "output_type": "execute_result"
    }
   ],
   "source": [
    "usa.shape[0]#before removing the outliers"
   ]
  },
  {
   "cell_type": "code",
   "execution_count": 30,
   "metadata": {
    "collapsed": false
   },
   "outputs": [
    {
     "data": {
      "text/plain": [
       "4755"
      ]
     },
     "execution_count": 30,
     "metadata": {},
     "output_type": "execute_result"
    }
   ],
   "source": [
    "usa = usa[usa['dol_per_month']<200]\n",
    "usa.shape[0]#after removing outliers"
   ]
  },
  {
   "cell_type": "code",
   "execution_count": 31,
   "metadata": {
    "collapsed": false
   },
   "outputs": [
    {
     "data": {
      "text/plain": [
       "698"
      ]
     },
     "execution_count": 31,
     "metadata": {},
     "output_type": "execute_result"
    }
   ],
   "source": [
    "uk.shape[0]#before removing the outliers"
   ]
  },
  {
   "cell_type": "code",
   "execution_count": 32,
   "metadata": {
    "collapsed": false
   },
   "outputs": [
    {
     "data": {
      "text/plain": [
       "636"
      ]
     },
     "execution_count": 32,
     "metadata": {},
     "output_type": "execute_result"
    }
   ],
   "source": [
    "uk = uk[uk['dol_per_month']<100]\n",
    "uk.shape[0]#after removing outliers"
   ]
  },
  {
   "cell_type": "code",
   "execution_count": 33,
   "metadata": {
    "collapsed": false
   },
   "outputs": [
    {
     "data": {
      "text/plain": [
       "10.295413771769498"
      ]
     },
     "execution_count": 33,
     "metadata": {},
     "output_type": "execute_result"
    }
   ],
   "source": [
    "uk['dol_per_month'].mean()"
   ]
  },
  {
   "cell_type": "code",
   "execution_count": 34,
   "metadata": {
    "collapsed": false
   },
   "outputs": [
    {
     "data": {
      "text/plain": [
       "17.960588244652037"
      ]
     },
     "execution_count": 34,
     "metadata": {},
     "output_type": "execute_result"
    }
   ],
   "source": [
    "usa['dol_per_month'].mean()"
   ]
  },
  {
   "cell_type": "code",
   "execution_count": 35,
   "metadata": {
    "collapsed": false
   },
   "outputs": [
    {
     "data": {
      "text/plain": [
       "6.296648954879147"
      ]
     },
     "execution_count": 35,
     "metadata": {},
     "output_type": "execute_result"
    }
   ],
   "source": [
    "india['dol_per_month'].mean()"
   ]
  },
  {
   "cell_type": "code",
   "execution_count": 36,
   "metadata": {
    "collapsed": false
   },
   "outputs": [
    {
     "data": {
      "text/plain": [
       "8.764812272909959"
      ]
     },
     "execution_count": 36,
     "metadata": {},
     "output_type": "execute_result"
    }
   ],
   "source": [
    "canada['dol_per_month'].mean()"
   ]
  },
  {
   "cell_type": "markdown",
   "metadata": {},
   "source": [
    "After eliminating the outliers. USA has the most people(4755) paying to learn with the average price of 17.96. This market is recommended first. \n",
    "\n",
    "despite the slight difference in average dollars spent on learning between India and the other two; Canada and UK. India has a lot more people paying to learn, 1119  when compared to the numbers from Canada and UK, with 486 and 636 respectively.\n",
    "But this requires further analysis of stats like the Standard deviation."
   ]
  },
  {
   "cell_type": "code",
   "execution_count": 37,
   "metadata": {
    "collapsed": false
   },
   "outputs": [
    {
     "data": {
      "text/plain": [
       "16.17751449114718"
      ]
     },
     "execution_count": 37,
     "metadata": {},
     "output_type": "execute_result"
    }
   ],
   "source": [
    "canada['dol_per_month'].std(ddof=0)"
   ]
  },
  {
   "cell_type": "code",
   "execution_count": 38,
   "metadata": {
    "collapsed": false
   },
   "outputs": [
    {
     "data": {
      "text/plain": [
       "19.260763340757972"
      ]
     },
     "execution_count": 38,
     "metadata": {},
     "output_type": "execute_result"
    }
   ],
   "source": [
    "uk['dol_per_month'].std(ddof=0)"
   ]
  },
  {
   "cell_type": "code",
   "execution_count": 39,
   "metadata": {
    "collapsed": false
   },
   "outputs": [
    {
     "data": {
      "text/plain": [
       "15.372176441306149"
      ]
     },
     "execution_count": 39,
     "metadata": {},
     "output_type": "execute_result"
    }
   ],
   "source": [
    "india['dol_per_month'].std(ddof=0)"
   ]
  },
  {
   "cell_type": "markdown",
   "metadata": {},
   "source": [
    "the standard deviation of india is the least. with this india would be recommended as the second market."
   ]
  }
 ],
 "metadata": {
  "kernelspec": {
   "display_name": "Python 3",
   "language": "python",
   "name": "python3"
  },
  "language_info": {
   "codemirror_mode": {
    "name": "ipython",
    "version": 3
   },
   "file_extension": ".py",
   "mimetype": "text/x-python",
   "name": "python",
   "nbconvert_exporter": "python",
   "pygments_lexer": "ipython3",
   "version": "3.4.3"
  }
 },
 "nbformat": 4,
 "nbformat_minor": 2
}

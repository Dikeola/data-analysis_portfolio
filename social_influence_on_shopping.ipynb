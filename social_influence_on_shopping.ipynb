{
  "metadata": {
    "kernelspec": {
      "language": "python",
      "display_name": "Python 3",
      "name": "python3"
    },
    "language_info": {
      "name": "python",
      "version": "3.10.12",
      "mimetype": "text/x-python",
      "codemirror_mode": {
        "name": "ipython",
        "version": 3
      },
      "pygments_lexer": "ipython3",
      "nbconvert_exporter": "python",
      "file_extension": ".py"
    },
    "kaggle": {
      "accelerator": "none",
      "dataSources": [
        {
          "sourceId": 7253567,
          "sourceType": "datasetVersion",
          "datasetId": 4202914
        }
      ],
      "dockerImageVersionId": 30626,
      "isInternetEnabled": true,
      "language": "python",
      "sourceType": "notebook",
      "isGpuEnabled": false
    },
    "colab": {
      "provenance": []
    }
  },
  "nbformat_minor": 0,
  "nbformat": 4,
  "cells": [
    {
      "cell_type": "code",
      "source": [
        "# This Python 3 environment comes with many helpful analytics libraries installed\n",
        "# It is defined by the kaggle/python Docker image: https://github.com/kaggle/docker-python\n",
        "# For example, here's several helpful packages to load\n",
        "\n",
        "import numpy as np # linear algebra\n",
        "import pandas as pd # data processing, CSV file I/O (e.g. pd.read_csv)\n",
        "import matplotlib.pyplot as plt\n",
        "import seaborn as sns\n",
        "# Input data files are available in the read-only \"../input/\" directory\n",
        "# For example, running this (by clicking run or pressing Shift+Enter) will list all files under the input directory\n",
        "\n",
        "import os\n",
        "for dirname, _, filenames in os.walk('/kaggle/input'):\n",
        "    for filename in filenames:\n",
        "        print(os.path.join(dirname, filename))\n",
        "\n",
        "# You can write up to 20GB to the current directory (/kaggle/working/) that gets preserved as output when you create a version using \"Save & Run All\"\n",
        "# You can also write temporary files to /kaggle/temp/, but they won't be saved outside of the current session"
      ],
      "metadata": {
        "_uuid": "8f2839f25d086af736a60e9eeb907d3b93b6e0e5",
        "_cell_guid": "b1076dfc-b9ad-4769-8c92-a6c4dae69d19",
        "execution": {
          "iopub.status.busy": "2023-12-26T16:25:20.351413Z",
          "iopub.execute_input": "2023-12-26T16:25:20.351871Z",
          "iopub.status.idle": "2023-12-26T16:25:22.551428Z",
          "shell.execute_reply.started": "2023-12-26T16:25:20.351835Z",
          "shell.execute_reply": "2023-12-26T16:25:22.549946Z"
        },
        "trusted": true,
        "id": "WYI53thFFZzC",
        "outputId": "0e22896b-0a53-41da-9682-4ec5c7d2b487"
      },
      "execution_count": null,
      "outputs": [
        {
          "name": "stdout",
          "text": "/kaggle/input/social-influence-on-shopping/WhatsgoodlyData-6.csv\n",
          "output_type": "stream"
        }
      ]
    },
    {
      "cell_type": "code",
      "source": [
        "df = pd.read_csv('/kaggle/input/social-influence-on-shopping/WhatsgoodlyData-6.csv')"
      ],
      "metadata": {
        "execution": {
          "iopub.status.busy": "2023-12-26T16:25:22.553428Z",
          "iopub.execute_input": "2023-12-26T16:25:22.553923Z",
          "iopub.status.idle": "2023-12-26T16:25:22.585712Z",
          "shell.execute_reply.started": "2023-12-26T16:25:22.553890Z",
          "shell.execute_reply": "2023-12-26T16:25:22.584452Z"
        },
        "trusted": true,
        "id": "q5Ij3SJXFZzG"
      },
      "execution_count": null,
      "outputs": []
    },
    {
      "cell_type": "code",
      "source": [
        "df.info()"
      ],
      "metadata": {
        "execution": {
          "iopub.status.busy": "2023-12-26T16:25:22.586911Z",
          "iopub.execute_input": "2023-12-26T16:25:22.587396Z",
          "iopub.status.idle": "2023-12-26T16:25:22.625796Z",
          "shell.execute_reply.started": "2023-12-26T16:25:22.587352Z",
          "shell.execute_reply": "2023-12-26T16:25:22.624466Z"
        },
        "trusted": true,
        "id": "KAhXACYjFZzG",
        "outputId": "51eb8415-2c37-4286-8a59-bf8b62479cf0"
      },
      "execution_count": null,
      "outputs": [
        {
          "name": "stdout",
          "text": "<class 'pandas.core.frame.DataFrame'>\nRangeIndex: 1450 entries, 0 to 1449\nData columns (total 6 columns):\n #   Column               Non-Null Count  Dtype  \n---  ------               --------------  -----  \n 0   Question             1450 non-null   object \n 1   Segment Type         1450 non-null   object \n 2   Segment Description  1450 non-null   object \n 3   Answer               1160 non-null   object \n 4   Count                1450 non-null   int64  \n 5   Percentage           1450 non-null   float64\ndtypes: float64(1), int64(1), object(4)\nmemory usage: 68.1+ KB\n",
          "output_type": "stream"
        }
      ]
    },
    {
      "cell_type": "code",
      "source": [
        "df.head()"
      ],
      "metadata": {
        "execution": {
          "iopub.status.busy": "2023-12-26T16:25:22.628054Z",
          "iopub.execute_input": "2023-12-26T16:25:22.628839Z",
          "iopub.status.idle": "2023-12-26T16:25:22.650491Z",
          "shell.execute_reply.started": "2023-12-26T16:25:22.628805Z",
          "shell.execute_reply": "2023-12-26T16:25:22.649112Z"
        },
        "trusted": true,
        "id": "IyQTcig5FZzG",
        "outputId": "9146c86a-f7a5-4921-dcb7-ebb8e5c8d299"
      },
      "execution_count": null,
      "outputs": [
        {
          "execution_count": 5,
          "output_type": "execute_result",
          "data": {
            "text/plain": "                                            Question Segment Type  \\\n0  What social platform has influenced your onlin...       Mobile   \n1  What social platform has influenced your onlin...       Mobile   \n2  What social platform has influenced your onlin...       Mobile   \n3  What social platform has influenced your onlin...       Mobile   \n4  What social platform has influenced your onlin...       Mobile   \n\n  Segment Description     Answer  Count  Percentage  \n0      Global results   Facebook    548       0.205  \n1      Global results  Instagram    916       0.342  \n2      Global results   Snapchat     86       0.032  \n3      Global results    Twitter    179       0.067  \n4      Global results        NaN    947       0.354  ",
            "text/html": "<div>\n<style scoped>\n    .dataframe tbody tr th:only-of-type {\n        vertical-align: middle;\n    }\n\n    .dataframe tbody tr th {\n        vertical-align: top;\n    }\n\n    .dataframe thead th {\n        text-align: right;\n    }\n</style>\n<table border=\"1\" class=\"dataframe\">\n  <thead>\n    <tr style=\"text-align: right;\">\n      <th></th>\n      <th>Question</th>\n      <th>Segment Type</th>\n      <th>Segment Description</th>\n      <th>Answer</th>\n      <th>Count</th>\n      <th>Percentage</th>\n    </tr>\n  </thead>\n  <tbody>\n    <tr>\n      <th>0</th>\n      <td>What social platform has influenced your onlin...</td>\n      <td>Mobile</td>\n      <td>Global results</td>\n      <td>Facebook</td>\n      <td>548</td>\n      <td>0.205</td>\n    </tr>\n    <tr>\n      <th>1</th>\n      <td>What social platform has influenced your onlin...</td>\n      <td>Mobile</td>\n      <td>Global results</td>\n      <td>Instagram</td>\n      <td>916</td>\n      <td>0.342</td>\n    </tr>\n    <tr>\n      <th>2</th>\n      <td>What social platform has influenced your onlin...</td>\n      <td>Mobile</td>\n      <td>Global results</td>\n      <td>Snapchat</td>\n      <td>86</td>\n      <td>0.032</td>\n    </tr>\n    <tr>\n      <th>3</th>\n      <td>What social platform has influenced your onlin...</td>\n      <td>Mobile</td>\n      <td>Global results</td>\n      <td>Twitter</td>\n      <td>179</td>\n      <td>0.067</td>\n    </tr>\n    <tr>\n      <th>4</th>\n      <td>What social platform has influenced your onlin...</td>\n      <td>Mobile</td>\n      <td>Global results</td>\n      <td>NaN</td>\n      <td>947</td>\n      <td>0.354</td>\n    </tr>\n  </tbody>\n</table>\n</div>"
          },
          "metadata": {}
        }
      ]
    },
    {
      "cell_type": "code",
      "source": [
        "df.Question.value_counts(normalize=True)"
      ],
      "metadata": {
        "execution": {
          "iopub.status.busy": "2023-12-26T16:26:01.962171Z",
          "iopub.execute_input": "2023-12-26T16:26:01.962827Z",
          "iopub.status.idle": "2023-12-26T16:26:01.975897Z",
          "shell.execute_reply.started": "2023-12-26T16:26:01.962781Z",
          "shell.execute_reply": "2023-12-26T16:26:01.974522Z"
        },
        "trusted": true,
        "id": "xzpjzzulFZzH",
        "outputId": "fc141ebc-efc7-4766-ffd8-d3e27c217405"
      },
      "execution_count": null,
      "outputs": [
        {
          "execution_count": 6,
          "output_type": "execute_result",
          "data": {
            "text/plain": "Question\nWhat social platform has influenced your online shopping most?    1.0\nName: proportion, dtype: float64"
          },
          "metadata": {}
        }
      ]
    },
    {
      "cell_type": "code",
      "source": [
        "df.describe(include='all')"
      ],
      "metadata": {
        "execution": {
          "iopub.status.busy": "2023-12-26T16:26:18.990998Z",
          "iopub.execute_input": "2023-12-26T16:26:18.991555Z",
          "iopub.status.idle": "2023-12-26T16:26:19.034278Z",
          "shell.execute_reply.started": "2023-12-26T16:26:18.991514Z",
          "shell.execute_reply": "2023-12-26T16:26:19.032727Z"
        },
        "trusted": true,
        "id": "WGaZTJSNFZzH",
        "outputId": "ad1b3aed-71c8-44de-cf10-672b43f380ee"
      },
      "execution_count": null,
      "outputs": [
        {
          "execution_count": 7,
          "output_type": "execute_result",
          "data": {
            "text/plain": "                                                 Question Segment Type  \\\ncount                                                1450         1450   \nunique                                                  1            5   \ntop     What social platform has influenced your onlin...   University   \nfreq                                                 1450          870   \nmean                                                  NaN          NaN   \nstd                                                   NaN          NaN   \nmin                                                   NaN          NaN   \n25%                                                   NaN          NaN   \n50%                                                   NaN          NaN   \n75%                                                   NaN          NaN   \nmax                                                   NaN          NaN   \n\n             Segment Description    Answer        Count   Percentage  \ncount                       1450      1160  1450.000000  1450.000000  \nunique                       289         4          NaN          NaN  \ntop     What's your major? Other  Facebook          NaN          NaN  \nfreq                          10       290          NaN          NaN  \nmean                         NaN       NaN    35.013793     0.199313  \nstd                          NaN       NaN    95.055604     0.274989  \nmin                          NaN       NaN     0.000000     0.000000  \n25%                          NaN       NaN     0.000000     0.000000  \n50%                          NaN       NaN     1.000000     0.063500  \n75%                          NaN       NaN    20.000000     0.323750  \nmax                          NaN       NaN   947.000000     1.000000  ",
            "text/html": "<div>\n<style scoped>\n    .dataframe tbody tr th:only-of-type {\n        vertical-align: middle;\n    }\n\n    .dataframe tbody tr th {\n        vertical-align: top;\n    }\n\n    .dataframe thead th {\n        text-align: right;\n    }\n</style>\n<table border=\"1\" class=\"dataframe\">\n  <thead>\n    <tr style=\"text-align: right;\">\n      <th></th>\n      <th>Question</th>\n      <th>Segment Type</th>\n      <th>Segment Description</th>\n      <th>Answer</th>\n      <th>Count</th>\n      <th>Percentage</th>\n    </tr>\n  </thead>\n  <tbody>\n    <tr>\n      <th>count</th>\n      <td>1450</td>\n      <td>1450</td>\n      <td>1450</td>\n      <td>1160</td>\n      <td>1450.000000</td>\n      <td>1450.000000</td>\n    </tr>\n    <tr>\n      <th>unique</th>\n      <td>1</td>\n      <td>5</td>\n      <td>289</td>\n      <td>4</td>\n      <td>NaN</td>\n      <td>NaN</td>\n    </tr>\n    <tr>\n      <th>top</th>\n      <td>What social platform has influenced your onlin...</td>\n      <td>University</td>\n      <td>What's your major? Other</td>\n      <td>Facebook</td>\n      <td>NaN</td>\n      <td>NaN</td>\n    </tr>\n    <tr>\n      <th>freq</th>\n      <td>1450</td>\n      <td>870</td>\n      <td>10</td>\n      <td>290</td>\n      <td>NaN</td>\n      <td>NaN</td>\n    </tr>\n    <tr>\n      <th>mean</th>\n      <td>NaN</td>\n      <td>NaN</td>\n      <td>NaN</td>\n      <td>NaN</td>\n      <td>35.013793</td>\n      <td>0.199313</td>\n    </tr>\n    <tr>\n      <th>std</th>\n      <td>NaN</td>\n      <td>NaN</td>\n      <td>NaN</td>\n      <td>NaN</td>\n      <td>95.055604</td>\n      <td>0.274989</td>\n    </tr>\n    <tr>\n      <th>min</th>\n      <td>NaN</td>\n      <td>NaN</td>\n      <td>NaN</td>\n      <td>NaN</td>\n      <td>0.000000</td>\n      <td>0.000000</td>\n    </tr>\n    <tr>\n      <th>25%</th>\n      <td>NaN</td>\n      <td>NaN</td>\n      <td>NaN</td>\n      <td>NaN</td>\n      <td>0.000000</td>\n      <td>0.000000</td>\n    </tr>\n    <tr>\n      <th>50%</th>\n      <td>NaN</td>\n      <td>NaN</td>\n      <td>NaN</td>\n      <td>NaN</td>\n      <td>1.000000</td>\n      <td>0.063500</td>\n    </tr>\n    <tr>\n      <th>75%</th>\n      <td>NaN</td>\n      <td>NaN</td>\n      <td>NaN</td>\n      <td>NaN</td>\n      <td>20.000000</td>\n      <td>0.323750</td>\n    </tr>\n    <tr>\n      <th>max</th>\n      <td>NaN</td>\n      <td>NaN</td>\n      <td>NaN</td>\n      <td>NaN</td>\n      <td>947.000000</td>\n      <td>1.000000</td>\n    </tr>\n  </tbody>\n</table>\n</div>"
          },
          "metadata": {}
        }
      ]
    },
    {
      "cell_type": "markdown",
      "source": [
        "Facebook is the most frequent answer;290 times.\n",
        "University is the most frequent 'Segment type'; 870 times."
      ],
      "metadata": {
        "id": "sxcLBqxBFZzI"
      }
    },
    {
      "cell_type": "code",
      "source": [
        "#Removing rows with no entry in Answer column.\n",
        "df2 = df.dropna(subset=['Answer'])"
      ],
      "metadata": {
        "execution": {
          "iopub.status.busy": "2023-12-26T16:29:09.652513Z",
          "iopub.execute_input": "2023-12-26T16:29:09.653013Z",
          "iopub.status.idle": "2023-12-26T16:29:09.665556Z",
          "shell.execute_reply.started": "2023-12-26T16:29:09.652959Z",
          "shell.execute_reply": "2023-12-26T16:29:09.664232Z"
        },
        "trusted": true,
        "id": "n5waUJ9JFZzJ"
      },
      "execution_count": null,
      "outputs": []
    },
    {
      "cell_type": "code",
      "source": [
        "df2.isnull().sum()"
      ],
      "metadata": {
        "execution": {
          "iopub.status.busy": "2023-12-26T16:29:25.341261Z",
          "iopub.execute_input": "2023-12-26T16:29:25.341780Z",
          "iopub.status.idle": "2023-12-26T16:29:25.354846Z",
          "shell.execute_reply.started": "2023-12-26T16:29:25.341742Z",
          "shell.execute_reply": "2023-12-26T16:29:25.353003Z"
        },
        "trusted": true,
        "id": "2EPm9BkpFZzJ",
        "outputId": "1ec2d64a-166e-4970-9d96-3d83bb3c266f"
      },
      "execution_count": null,
      "outputs": [
        {
          "execution_count": 9,
          "output_type": "execute_result",
          "data": {
            "text/plain": "Question               0\nSegment Type           0\nSegment Description    0\nAnswer                 0\nCount                  0\nPercentage             0\ndtype: int64"
          },
          "metadata": {}
        }
      ]
    },
    {
      "cell_type": "code",
      "source": [
        "df2.groupby(['Segment Type','Answer'])['Count'].agg('sum')"
      ],
      "metadata": {
        "execution": {
          "iopub.status.busy": "2023-12-26T16:31:33.751124Z",
          "iopub.execute_input": "2023-12-26T16:31:33.751562Z",
          "iopub.status.idle": "2023-12-26T16:31:33.769227Z",
          "shell.execute_reply.started": "2023-12-26T16:31:33.751517Z",
          "shell.execute_reply": "2023-12-26T16:31:33.766420Z"
        },
        "trusted": true,
        "id": "WMAjbwXFFZzK",
        "outputId": "4d720e19-c161-467a-c1be-e78ff8bb7fda"
      },
      "execution_count": null,
      "outputs": [
        {
          "execution_count": 10,
          "output_type": "execute_result",
          "data": {
            "text/plain": "Segment Type  Answer   \nCustom        Facebook      8747\n              Instagram    13964\n              Snapchat      1335\n              Twitter       2918\nGender        Facebook       548\n              Instagram      915\n              Snapchat        85\n              Twitter        179\nMobile        Facebook       548\n              Instagram      916\n              Snapchat        86\n              Twitter        179\nUniversity    Facebook       486\n              Instagram      729\n              Snapchat        68\n              Twitter        131\nWeb           Facebook         0\n              Instagram        0\n              Snapchat         0\n              Twitter          0\nName: Count, dtype: int64"
          },
          "metadata": {}
        }
      ]
    },
    {
      "cell_type": "code",
      "source": [
        "grouped = df2.groupby(['Segment Type','Answer'])['Count'].agg('sum')\n",
        "seg = [i[0] for i in grouped.index]\n",
        "ans = [i[1] for i in grouped.index]"
      ],
      "metadata": {
        "execution": {
          "iopub.status.busy": "2023-12-26T16:35:45.707060Z",
          "iopub.execute_input": "2023-12-26T16:35:45.707587Z",
          "iopub.status.idle": "2023-12-26T16:35:45.719736Z",
          "shell.execute_reply.started": "2023-12-26T16:35:45.707550Z",
          "shell.execute_reply": "2023-12-26T16:35:45.717784Z"
        },
        "trusted": true,
        "id": "Il1-wX8KFZzK"
      },
      "execution_count": null,
      "outputs": []
    },
    {
      "cell_type": "code",
      "source": [
        "sns.barplot(x=seg, y=grouped.values,hue=ans)"
      ],
      "metadata": {
        "execution": {
          "iopub.status.busy": "2023-12-26T16:36:01.471217Z",
          "iopub.execute_input": "2023-12-26T16:36:01.471678Z",
          "iopub.status.idle": "2023-12-26T16:36:01.999381Z",
          "shell.execute_reply.started": "2023-12-26T16:36:01.471642Z",
          "shell.execute_reply": "2023-12-26T16:36:01.997788Z"
        },
        "trusted": true,
        "id": "nzwdhoy3FZzK",
        "outputId": "ba799510-8114-44ed-cb91-b3d17f538647"
      },
      "execution_count": null,
      "outputs": [
        {
          "execution_count": 15,
          "output_type": "execute_result",
          "data": {
            "text/plain": "<Axes: >"
          },
          "metadata": {}
        },
        {
          "output_type": "display_data",
          "data": {
            "text/plain": "<Figure size 640x480 with 1 Axes>",
            "image/png": "[encoded data removed]"
          },
          "metadata": {}
        }
      ]
    },
    {
      "cell_type": "code",
      "source": [
        "seg1= [i for i in seg if i!='Custom']\n",
        "ans1= [i[1] for i in grouped.index if i[0]!='Custom']\n",
        "sns.barplot(x=seg1, y=grouped.iloc[4:].values,hue=ans1)"
      ],
      "metadata": {
        "execution": {
          "iopub.status.busy": "2023-12-26T16:51:29.966223Z",
          "iopub.execute_input": "2023-12-26T16:51:29.966627Z",
          "iopub.status.idle": "2023-12-26T16:51:30.360154Z",
          "shell.execute_reply.started": "2023-12-26T16:51:29.966597Z",
          "shell.execute_reply": "2023-12-26T16:51:30.358802Z"
        },
        "trusted": true,
        "id": "DX7EE1z_FZzL",
        "outputId": "325cca03-9081-4a24-8eb7-e127fb48e60b"
      },
      "execution_count": null,
      "outputs": [
        {
          "execution_count": 43,
          "output_type": "execute_result",
          "data": {
            "text/plain": "<Axes: >"
          },
          "metadata": {}
        },
        {
          "output_type": "display_data",
          "data": {
            "text/plain": "<Figure size 640x480 with 1 Axes>",
            "image/png": "[encoded data removed]"
          },
          "metadata": {}
        }
      ]
    },
    {
      "cell_type": "markdown",
      "source": [
        "Instagram and Facebook have influenced online shopping behaviour the most.\n",
        "Snapchat has the lowest influence on shopping behaviour.\n",
        "Instagram has a significantly high influence on shopping behaviour."
      ],
      "metadata": {
        "id": "oaLB6OdLFZzL"
      }
    },
    {
      "cell_type": "code",
      "source": [
        "sns.barplot(x='Answer',y='Count',palette=['red','grey','grey','blue'],order=df2.groupby('Answer')['Count'].agg('mean').sort_values(ascending=False).index,data=df2, ci=None)\n",
        "plt.title('Instagram influenced shopping the most and Snapchat has minimal influence')\n",
        "plt.ylabel('Average Count')"
      ],
      "metadata": {
        "execution": {
          "iopub.status.busy": "2023-12-26T17:02:55.833205Z",
          "iopub.execute_input": "2023-12-26T17:02:55.833612Z",
          "iopub.status.idle": "2023-12-26T17:02:56.166146Z",
          "shell.execute_reply.started": "2023-12-26T17:02:55.833580Z",
          "shell.execute_reply": "2023-12-26T17:02:56.164814Z"
        },
        "trusted": true,
        "id": "Fn-CiThTFZzL",
        "outputId": "964fbc78-7235-4e8f-f4c8-e27b4e652bb4"
      },
      "execution_count": null,
      "outputs": [
        {
          "name": "stderr",
          "text": "/tmp/ipykernel_43/362780531.py:1: FutureWarning: \n\nThe `ci` parameter is deprecated. Use `errorbar=None` for the same effect.\n\n  sns.barplot(x='Answer',y='Count',palette=['red','grey','grey','blue'],order=df2.groupby('Answer')['Count'].agg('mean').sort_values(ascending=False).index,data=df2, ci=None)\n",
          "output_type": "stream"
        },
        {
          "execution_count": 50,
          "output_type": "execute_result",
          "data": {
            "text/plain": "Text(0, 0.5, 'Average Count')"
          },
          "metadata": {}
        },
        {
          "output_type": "display_data",
          "data": {
            "text/plain": "<Figure size 640x480 with 1 Axes>",
            "image/png": "[encoded data removed]"
          },
          "metadata": {}
        }
      ]
    },
    {
      "cell_type": "code",
      "source": [
        "seg1"
      ],
      "metadata": {
        "execution": {
          "iopub.status.busy": "2023-12-26T16:50:21.595025Z",
          "iopub.execute_input": "2023-12-26T16:50:21.595544Z",
          "iopub.status.idle": "2023-12-26T16:50:21.604401Z",
          "shell.execute_reply.started": "2023-12-26T16:50:21.595505Z",
          "shell.execute_reply": "2023-12-26T16:50:21.602961Z"
        },
        "trusted": true,
        "id": "D_GGq5COFZzL",
        "outputId": "652060d2-5e28-417f-8030-1337b940cfd7"
      },
      "execution_count": null,
      "outputs": [
        {
          "execution_count": 41,
          "output_type": "execute_result",
          "data": {
            "text/plain": "['Gender',\n 'Gender',\n 'Gender',\n 'Gender',\n 'Mobile',\n 'Mobile',\n 'Mobile',\n 'Mobile',\n 'University',\n 'University',\n 'University',\n 'University',\n 'Web',\n 'Web',\n 'Web',\n 'Web']"
          },
          "metadata": {}
        }
      ]
    },
    {
      "cell_type": "code",
      "source": [
        "grouped.iloc[4:]"
      ],
      "metadata": {
        "execution": {
          "iopub.status.busy": "2023-12-26T16:51:18.925139Z",
          "iopub.execute_input": "2023-12-26T16:51:18.925572Z",
          "iopub.status.idle": "2023-12-26T16:51:18.936244Z",
          "shell.execute_reply.started": "2023-12-26T16:51:18.925524Z",
          "shell.execute_reply": "2023-12-26T16:51:18.934841Z"
        },
        "trusted": true,
        "id": "enNc6i39FZzM",
        "outputId": "a96986c4-065b-4240-a60a-4368c93197ca"
      },
      "execution_count": null,
      "outputs": [
        {
          "execution_count": 42,
          "output_type": "execute_result",
          "data": {
            "text/plain": "Segment Type  Answer   \nGender        Facebook     548\n              Instagram    915\n              Snapchat      85\n              Twitter      179\nMobile        Facebook     548\n              Instagram    916\n              Snapchat      86\n              Twitter      179\nUniversity    Facebook     486\n              Instagram    729\n              Snapchat      68\n              Twitter      131\nWeb           Facebook       0\n              Instagram      0\n              Snapchat       0\n              Twitter        0\nName: Count, dtype: int64"
          },
          "metadata": {}
        }
      ]
    },
    {
      "cell_type": "code",
      "source": [
        "ans1"
      ],
      "metadata": {
        "execution": {
          "iopub.status.busy": "2023-12-26T16:50:07.692466Z",
          "iopub.execute_input": "2023-12-26T16:50:07.692947Z",
          "iopub.status.idle": "2023-12-26T16:50:07.702277Z",
          "shell.execute_reply.started": "2023-12-26T16:50:07.692914Z",
          "shell.execute_reply": "2023-12-26T16:50:07.700660Z"
        },
        "trusted": true,
        "id": "uPm3iy-vFZzM",
        "outputId": "b257c9fc-1e40-4ca8-8d82-770c159cfa47"
      },
      "execution_count": null,
      "outputs": [
        {
          "execution_count": 40,
          "output_type": "execute_result",
          "data": {
            "text/plain": "['Facebook',\n 'Instagram',\n 'Snapchat',\n 'Twitter',\n 'Facebook',\n 'Instagram',\n 'Snapchat',\n 'Twitter',\n 'Facebook',\n 'Instagram',\n 'Snapchat',\n 'Twitter',\n 'Facebook',\n 'Instagram',\n 'Snapchat',\n 'Twitter']"
          },
          "metadata": {}
        }
      ]
    }
  ]
}
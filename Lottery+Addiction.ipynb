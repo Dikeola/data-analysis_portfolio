{
 "cells": [
  {
   "cell_type": "markdown",
   "metadata": {
    "collapsed": true
   },
   "source": [
    "Project: Mobile App for Lottery Addiction"
   ]
  },
  {
   "cell_type": "markdown",
   "metadata": {},
   "source": [
    "**Fictional**\n",
    "Many people start playing the lottery for fun, but for some this activity turns into a habit which eventually escalates into addiction.\n",
    "\n",
    "A medical institute that aims to prevent and treat gambling addictions wants to build a dedicated mobile app to help lottery addicts better estimate their chances of winning. The institute has a team of engineers that will build the app, but they need us to create the logical core of the app and calculate probabilities.\n"
   ]
  },
  {
   "cell_type": "markdown",
   "metadata": {},
   "source": [
    "For the first version of the app, they want us to focus on the 6/49 lottery and build functions that enable users to answer questions like:\n",
    "\n",
    "What is the probability of winning the big prize with a single ticket?\n",
    "What is the probability of winning the big prize if we play 40 different tickets (or any other number)?\n",
    "What is the probability of having at least five (or four, or three, or two) winning numbers on a single ticket?"
   ]
  },
  {
   "cell_type": "code",
   "execution_count": 1,
   "metadata": {
    "collapsed": true
   },
   "outputs": [],
   "source": [
    "\n",
    "def factorial(n):\n",
    "    total = 1\n",
    "    for i in range(n,1,-1):\n",
    "        total*=i\n",
    "    return total\n",
    "\n",
    "def combinations(n,k):\n",
    "    calc = factorial(n)/(factorial(k)*factorial(n-k))\n",
    "    return calc"
   ]
  },
  {
   "cell_type": "markdown",
   "metadata": {},
   "source": [
    "For the first version of the app, we want players to be able to calculate the probability of winning the big prize with the various numbers they play on a single ticket (for each ticket a player chooses six numbers out of 49). So, we'll start by building a function that calculates the probability of winning the big prize for any given ticket."
   ]
  },
  {
   "cell_type": "markdown",
   "metadata": {},
   "source": [
    "We discussed with the engineering team of the medical institute, and they told us we need to be aware of the following details when we write the function:\n",
    "\n",
    "Inside the app, the user inputs six different numbers from 1 to 49.\n",
    "Under the hood, the six numbers will come as a Python list, which will serve as the single input to our function.\n",
    "The engineering team wants the function to print the probability value in a friendly way — in a way that people without any probability training are able to understand."
   ]
  },
  {
   "cell_type": "code",
   "execution_count": 2,
   "metadata": {
    "collapsed": false
   },
   "outputs": [],
   "source": [
    "def one_ticket_probability(lis=[]):\n",
    "    total_outcomes = combinations(49,6)\n",
    "    probability = 1/total_outcomes\n",
    "    print('You have a {}% chance of winning.'.format(probability*100))"
   ]
  },
  {
   "cell_type": "code",
   "execution_count": 3,
   "metadata": {
    "collapsed": false
   },
   "outputs": [
    {
     "name": "stdout",
     "output_type": "stream",
     "text": [
      "You have a 7.151123842018516e-06% chance of winning.\n"
     ]
    }
   ],
   "source": [
    "one_ticket_probability()"
   ]
  },
  {
   "cell_type": "code",
   "execution_count": 4,
   "metadata": {
    "collapsed": true
   },
   "outputs": [],
   "source": [
    "import pandas as pd\n",
    "import numpy as np"
   ]
  },
  {
   "cell_type": "code",
   "execution_count": 5,
   "metadata": {
    "collapsed": true
   },
   "outputs": [],
   "source": [
    "data = pd.read_csv('649.csv')#Read data"
   ]
  },
  {
   "cell_type": "code",
   "execution_count": 6,
   "metadata": {
    "collapsed": false
   },
   "outputs": [
    {
     "data": {
      "text/plain": [
       "(3665, 11)"
      ]
     },
     "execution_count": 6,
     "metadata": {},
     "output_type": "execute_result"
    }
   ],
   "source": [
    "data.shape #display rows and columns"
   ]
  },
  {
   "cell_type": "code",
   "execution_count": 7,
   "metadata": {
    "collapsed": false
   },
   "outputs": [
    {
     "data": {
      "text/html": [
       "<div>\n",
       "<style scoped>\n",
       "    .dataframe tbody tr th:only-of-type {\n",
       "        vertical-align: middle;\n",
       "    }\n",
       "\n",
       "    .dataframe tbody tr th {\n",
       "        vertical-align: top;\n",
       "    }\n",
       "\n",
       "    .dataframe thead th {\n",
       "        text-align: right;\n",
       "    }\n",
       "</style>\n",
       "<table border=\"1\" class=\"dataframe\">\n",
       "  <thead>\n",
       "    <tr style=\"text-align: right;\">\n",
       "      <th></th>\n",
       "      <th>PRODUCT</th>\n",
       "      <th>DRAW NUMBER</th>\n",
       "      <th>SEQUENCE NUMBER</th>\n",
       "      <th>DRAW DATE</th>\n",
       "      <th>NUMBER DRAWN 1</th>\n",
       "      <th>NUMBER DRAWN 2</th>\n",
       "      <th>NUMBER DRAWN 3</th>\n",
       "      <th>NUMBER DRAWN 4</th>\n",
       "      <th>NUMBER DRAWN 5</th>\n",
       "      <th>NUMBER DRAWN 6</th>\n",
       "      <th>BONUS NUMBER</th>\n",
       "    </tr>\n",
       "  </thead>\n",
       "  <tbody>\n",
       "    <tr>\n",
       "      <th>0</th>\n",
       "      <td>649</td>\n",
       "      <td>1</td>\n",
       "      <td>0</td>\n",
       "      <td>6/12/1982</td>\n",
       "      <td>3</td>\n",
       "      <td>11</td>\n",
       "      <td>12</td>\n",
       "      <td>14</td>\n",
       "      <td>41</td>\n",
       "      <td>43</td>\n",
       "      <td>13</td>\n",
       "    </tr>\n",
       "    <tr>\n",
       "      <th>1</th>\n",
       "      <td>649</td>\n",
       "      <td>2</td>\n",
       "      <td>0</td>\n",
       "      <td>6/19/1982</td>\n",
       "      <td>8</td>\n",
       "      <td>33</td>\n",
       "      <td>36</td>\n",
       "      <td>37</td>\n",
       "      <td>39</td>\n",
       "      <td>41</td>\n",
       "      <td>9</td>\n",
       "    </tr>\n",
       "    <tr>\n",
       "      <th>2</th>\n",
       "      <td>649</td>\n",
       "      <td>3</td>\n",
       "      <td>0</td>\n",
       "      <td>6/26/1982</td>\n",
       "      <td>1</td>\n",
       "      <td>6</td>\n",
       "      <td>23</td>\n",
       "      <td>24</td>\n",
       "      <td>27</td>\n",
       "      <td>39</td>\n",
       "      <td>34</td>\n",
       "    </tr>\n",
       "  </tbody>\n",
       "</table>\n",
       "</div>"
      ],
      "text/plain": [
       "   PRODUCT  DRAW NUMBER  SEQUENCE NUMBER  DRAW DATE  NUMBER DRAWN 1  \\\n",
       "0      649            1                0  6/12/1982               3   \n",
       "1      649            2                0  6/19/1982               8   \n",
       "2      649            3                0  6/26/1982               1   \n",
       "\n",
       "   NUMBER DRAWN 2  NUMBER DRAWN 3  NUMBER DRAWN 4  NUMBER DRAWN 5  \\\n",
       "0              11              12              14              41   \n",
       "1              33              36              37              39   \n",
       "2               6              23              24              27   \n",
       "\n",
       "   NUMBER DRAWN 6  BONUS NUMBER  \n",
       "0              43            13  \n",
       "1              41             9  \n",
       "2              39            34  "
      ]
     },
     "execution_count": 7,
     "metadata": {},
     "output_type": "execute_result"
    }
   ],
   "source": [
    "data.head(3)#display first three rows"
   ]
  },
  {
   "cell_type": "code",
   "execution_count": 8,
   "metadata": {
    "collapsed": false
   },
   "outputs": [
    {
     "data": {
      "text/html": [
       "<div>\n",
       "<style scoped>\n",
       "    .dataframe tbody tr th:only-of-type {\n",
       "        vertical-align: middle;\n",
       "    }\n",
       "\n",
       "    .dataframe tbody tr th {\n",
       "        vertical-align: top;\n",
       "    }\n",
       "\n",
       "    .dataframe thead th {\n",
       "        text-align: right;\n",
       "    }\n",
       "</style>\n",
       "<table border=\"1\" class=\"dataframe\">\n",
       "  <thead>\n",
       "    <tr style=\"text-align: right;\">\n",
       "      <th></th>\n",
       "      <th>PRODUCT</th>\n",
       "      <th>DRAW NUMBER</th>\n",
       "      <th>SEQUENCE NUMBER</th>\n",
       "      <th>DRAW DATE</th>\n",
       "      <th>NUMBER DRAWN 1</th>\n",
       "      <th>NUMBER DRAWN 2</th>\n",
       "      <th>NUMBER DRAWN 3</th>\n",
       "      <th>NUMBER DRAWN 4</th>\n",
       "      <th>NUMBER DRAWN 5</th>\n",
       "      <th>NUMBER DRAWN 6</th>\n",
       "      <th>BONUS NUMBER</th>\n",
       "    </tr>\n",
       "  </thead>\n",
       "  <tbody>\n",
       "    <tr>\n",
       "      <th>3662</th>\n",
       "      <td>649</td>\n",
       "      <td>3589</td>\n",
       "      <td>0</td>\n",
       "      <td>6/13/2018</td>\n",
       "      <td>6</td>\n",
       "      <td>22</td>\n",
       "      <td>24</td>\n",
       "      <td>31</td>\n",
       "      <td>32</td>\n",
       "      <td>34</td>\n",
       "      <td>16</td>\n",
       "    </tr>\n",
       "    <tr>\n",
       "      <th>3663</th>\n",
       "      <td>649</td>\n",
       "      <td>3590</td>\n",
       "      <td>0</td>\n",
       "      <td>6/16/2018</td>\n",
       "      <td>2</td>\n",
       "      <td>15</td>\n",
       "      <td>21</td>\n",
       "      <td>31</td>\n",
       "      <td>38</td>\n",
       "      <td>49</td>\n",
       "      <td>8</td>\n",
       "    </tr>\n",
       "    <tr>\n",
       "      <th>3664</th>\n",
       "      <td>649</td>\n",
       "      <td>3591</td>\n",
       "      <td>0</td>\n",
       "      <td>6/20/2018</td>\n",
       "      <td>14</td>\n",
       "      <td>24</td>\n",
       "      <td>31</td>\n",
       "      <td>35</td>\n",
       "      <td>37</td>\n",
       "      <td>48</td>\n",
       "      <td>17</td>\n",
       "    </tr>\n",
       "  </tbody>\n",
       "</table>\n",
       "</div>"
      ],
      "text/plain": [
       "      PRODUCT  DRAW NUMBER  SEQUENCE NUMBER  DRAW DATE  NUMBER DRAWN 1  \\\n",
       "3662      649         3589                0  6/13/2018               6   \n",
       "3663      649         3590                0  6/16/2018               2   \n",
       "3664      649         3591                0  6/20/2018              14   \n",
       "\n",
       "      NUMBER DRAWN 2  NUMBER DRAWN 3  NUMBER DRAWN 4  NUMBER DRAWN 5  \\\n",
       "3662              22              24              31              32   \n",
       "3663              15              21              31              38   \n",
       "3664              24              31              35              37   \n",
       "\n",
       "      NUMBER DRAWN 6  BONUS NUMBER  \n",
       "3662              34            16  \n",
       "3663              49             8  \n",
       "3664              48            17  "
      ]
     },
     "execution_count": 8,
     "metadata": {},
     "output_type": "execute_result"
    }
   ],
   "source": [
    "data.tail(3)#display last three rows"
   ]
  },
  {
   "cell_type": "markdown",
   "metadata": {},
   "source": [
    "The engineering team told us that we need to be aware of the following details:\n",
    "\n",
    "Inside the app, the user inputs six different numbers from 1 to 49.\n",
    "\n",
    "Under the hood, the six numbers will come as a Python list and serve as an input to our function.\n",
    "\n",
    "The engineering team wants us to write a function that prints:\n",
    "- the number of times the combination selected occurred in the Canada data set; and\n",
    "- the probability of winning the big prize in the next drawing with that combination."
   ]
  },
  {
   "cell_type": "code",
   "execution_count": 25,
   "metadata": {
    "collapsed": false
   },
   "outputs": [
    {
     "data": {
      "text/plain": [
       "0        {3, 41, 11, 12, 43, 14}\n",
       "1        {33, 36, 37, 39, 8, 41}\n",
       "2         {1, 6, 39, 23, 24, 27}\n",
       "3         {3, 9, 10, 43, 13, 20}\n",
       "4        {34, 5, 14, 47, 21, 31}\n",
       "5        {8, 41, 20, 21, 25, 31}\n",
       "6       {33, 36, 42, 18, 25, 28}\n",
       "7        {7, 40, 16, 17, 48, 31}\n",
       "8        {5, 38, 37, 10, 23, 27}\n",
       "9        {4, 37, 46, 15, 48, 30}\n",
       "10        {33, 38, 7, 9, 42, 21}\n",
       "11      {36, 11, 43, 17, 19, 20}\n",
       "12       {37, 7, 14, 47, 17, 20}\n",
       "13      {35, 44, 25, 28, 29, 30}\n",
       "14       {36, 39, 8, 41, 47, 18}\n",
       "15       {9, 12, 13, 14, 44, 48}\n",
       "16       {4, 40, 43, 44, 14, 18}\n",
       "17      {34, 35, 36, 13, 16, 18}\n",
       "18      {36, 11, 23, 25, 28, 29}\n",
       "19       {37, 7, 45, 18, 23, 25}\n",
       "20      {37, 11, 45, 18, 19, 31}\n",
       "21       {8, 14, 16, 48, 18, 31}\n",
       "22       {4, 11, 45, 23, 24, 25}\n",
       "23        {33, 34, 3, 4, 48, 19}\n",
       "24       {5, 43, 17, 21, 28, 30}\n",
       "25       {36, 6, 38, 46, 17, 24}\n",
       "26        {4, 9, 10, 11, 43, 46}\n",
       "27       {32, 33, 7, 13, 45, 23}\n",
       "28      {35, 37, 11, 18, 22, 28}\n",
       "29      {35, 45, 48, 25, 26, 31}\n",
       "                  ...           \n",
       "3635     {2, 10, 43, 44, 48, 28}\n",
       "3636      {1, 33, 9, 10, 43, 19}\n",
       "3637    {35, 43, 44, 46, 16, 17}\n",
       "3638       {1, 5, 39, 9, 41, 12}\n",
       "3639     {9, 11, 45, 49, 28, 30}\n",
       "3640    {11, 12, 46, 19, 24, 28}\n",
       "3641      {3, 7, 43, 47, 22, 26}\n",
       "3642       {34, 6, 8, 9, 40, 13}\n",
       "3643    {36, 40, 47, 49, 18, 22}\n",
       "3644      {32, 3, 7, 41, 10, 43}\n",
       "3645     {1, 36, 11, 48, 49, 19}\n",
       "3646    {39, 12, 17, 19, 22, 27}\n",
       "3647    {41, 12, 49, 19, 20, 30}\n",
       "3648    {40, 10, 46, 14, 16, 15}\n",
       "3649    {33, 34, 44, 46, 24, 31}\n",
       "3650      {4, 37, 36, 7, 49, 28}\n",
       "3651     {33, 4, 48, 18, 24, 26}\n",
       "3652    {36, 37, 15, 17, 21, 24}\n",
       "3653     {34, 37, 6, 44, 17, 21}\n",
       "3654    {39, 46, 19, 21, 28, 30}\n",
       "3655    {34, 38, 44, 14, 15, 28}\n",
       "3656      {4, 9, 42, 44, 15, 20}\n",
       "3657    {39, 12, 13, 44, 16, 23}\n",
       "3658     {38, 39, 9, 14, 17, 21}\n",
       "3659     {32, 2, 40, 45, 49, 26}\n",
       "3660    {38, 40, 41, 10, 15, 23}\n",
       "3661    {36, 46, 47, 19, 25, 31}\n",
       "3662     {32, 34, 6, 22, 24, 31}\n",
       "3663     {2, 38, 15, 49, 21, 31}\n",
       "3664    {35, 37, 14, 48, 24, 31}\n",
       "Length: 3665, dtype: object"
      ]
     },
     "execution_count": 25,
     "metadata": {},
     "output_type": "execute_result"
    }
   ],
   "source": [
    "cols = data.columns[4:-1]\n",
    "def extract_numbers(row):\n",
    "    nums =set()\n",
    "    for i in cols:\n",
    "        nums.add(row[i])\n",
    "    return nums\n",
    "num_set = data.apply(extract_numbers,axis=1)\n",
    "num_set    "
   ]
  },
  {
   "cell_type": "markdown",
   "metadata": {},
   "source": [
    "Wrote a function to extract the lottery winning numbers."
   ]
  },
  {
   "cell_type": "code",
   "execution_count": 29,
   "metadata": {
    "collapsed": false
   },
   "outputs": [],
   "source": [
    "def check_historical_occurence(listt,win_set):\n",
    "    st = set(listt)\n",
    "    times = 0# number of times combination occurred\n",
    "    for i in range(1,3665):\n",
    "        if win_set[i] == st:\n",
    "            times+=1\n",
    "            \n",
    "    print('This combination of values has occurred {} times in the past.'.format(times))\n",
    "    probability = times/combinations(49,6)\n",
    "    print('The probability of winning is {}%'.format(probability*100))"
   ]
  },
  {
   "cell_type": "markdown",
   "metadata": {},
   "source": [
    "Wrote a function compute the probability of winning with a combination.\n",
    "Checked how many times the combination has occurred in the past."
   ]
  },
  {
   "cell_type": "code",
   "execution_count": 30,
   "metadata": {
    "collapsed": false
   },
   "outputs": [
    {
     "name": "stdout",
     "output_type": "stream",
     "text": [
      "This combination of values has occurred 1 times in the past.\n",
      "The probability of winning is 7.151123842018516e-06%\n"
     ]
    }
   ],
   "source": [
    "check_historical_occurence([35, 37, 14, 48, 24, 31],num_set)"
   ]
  },
  {
   "cell_type": "markdown",
   "metadata": {},
   "source": [
    "Lottery addicts usually play more than one ticket on a single drawing, thinking that this might increase their chances of winning significantly. Our purpose is to help them better estimate their chances of winning — on this screen, we're going to write a function that will allow the users to calculate the chances of winning for any number of different tickets.\n",
    "\n",
    "We've talked with the engineering team and they gave us the following information:\n",
    "\n",
    "The user will input the number of different tickets they want to play (without inputting the specific combinations they intend to play).\n",
    "Our function will see an integer between 1 and 13,983,816 (the maximum number of different tickets).\n",
    "The function should print information about the probability of winning the big prize depending on the number of different tickets played."
   ]
  },
  {
   "cell_type": "code",
   "execution_count": 39,
   "metadata": {
    "collapsed": true
   },
   "outputs": [],
   "source": [
    "def multi_ticket_probability(no_of_tickets):\n",
    "    total_outcomes = combinations(49,6)\n",
    "    #calculate probability of winning once from the tickets\n",
    "    probability = 1/total_outcomes\n",
    "    print('The probability of winning is {}%'.format(probability*100))"
   ]
  },
  {
   "cell_type": "markdown",
   "metadata": {},
   "source": [
    "Wrote a function to calculate the probability of winning with multiple tickets.\n",
    "Testing the function below."
   ]
  },
  {
   "cell_type": "code",
   "execution_count": 40,
   "metadata": {
    "collapsed": false,
    "scrolled": true
   },
   "outputs": [
    {
     "name": "stdout",
     "output_type": "stream",
     "text": [
      "The probability of winning is 7.151123842018516e-06%\n",
      "The probability of winning is 7.151123842018516e-06%\n",
      "The probability of winning is 7.151123842018516e-06%\n",
      "The probability of winning is 7.151123842018516e-06%\n",
      "The probability of winning is 7.151123842018516e-06%\n",
      "The probability of winning is 7.151123842018516e-06%\n",
      "The probability of winning is 7.151123842018516e-06%\n"
     ]
    }
   ],
   "source": [
    "multi_ticket_probability(1)\n",
    "multi_ticket_probability(10)\n",
    "multi_ticket_probability(100)\n",
    "multi_ticket_probability(10000)\n",
    "multi_ticket_probability(1000000)\n",
    "multi_ticket_probability(6991908)\n",
    "multi_ticket_probability(13983816)"
   ]
  },
  {
   "cell_type": "markdown",
   "metadata": {},
   "source": [
    "writing one more function to allow the users to calculate probabilities for two, three, four, or five winning numbers.\n",
    "\n",
    "For extra context, in most 6/49 lotteries there are smaller prizes if a player's ticket match two, three, four, or five of the six numbers drawn. As a consequence, the users might be interested in knowing the probability of having two, three, four, or five winning numbers."
   ]
  },
  {
   "cell_type": "markdown",
   "metadata": {},
   "source": [
    "What is the probability of having exactly five winning numbers?\n",
    "What is the probability of having at least five winning numbers?"
   ]
  },
  {
   "cell_type": "code",
   "execution_count": 41,
   "metadata": {
    "collapsed": true
   },
   "outputs": [],
   "source": [
    "def probability_less_6(n):\n",
    "    #takes in an integer between 2 and 5 and \n",
    "    #prints information about the chances of winning depending on the value of that integer\n",
    "    out = combinations(6,n)#number of combinations with the winning numbers\n",
    "    successful = out * combinations(49-n,6-n)#number of successful outcomes\n",
    "    total= combinations(49,6)\n",
    "    probabilty = successful/total\n",
    "    print('The having {} winning numbers is {}'.format(n,probability*100))\n",
    "    "
   ]
  },
  {
   "cell_type": "code",
   "execution_count": null,
   "metadata": {
    "collapsed": true
   },
   "outputs": [],
   "source": [
    "probability_less_6()"
   ]
  }
 ],
 "metadata": {
  "kernelspec": {
   "display_name": "Python 3",
   "language": "python",
   "name": "python3"
  },
  "language_info": {
   "codemirror_mode": {
    "name": "ipython",
    "version": 3
   },
   "file_extension": ".py",
   "mimetype": "text/x-python",
   "name": "python",
   "nbconvert_exporter": "python",
   "pygments_lexer": "ipython3",
   "version": "3.4.3"
  }
 },
 "nbformat": 4,
 "nbformat_minor": 2
}
